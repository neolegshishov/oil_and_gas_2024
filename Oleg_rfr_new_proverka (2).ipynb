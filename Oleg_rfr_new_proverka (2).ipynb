{
 "cells": [
  {
   "cell_type": "code",
   "id": "initial_id",
   "metadata": {
    "collapsed": true,
    "ExecuteTime": {
     "end_time": "2024-04-25T06:39:26.740513Z",
     "start_time": "2024-04-25T06:39:25.048242Z"
    }
   },
   "source": [
    "from pandas import read_csv, DataFrame\n",
    "from sklearn.ensemble import RandomForestRegressor\n",
    "from sklearn.model_selection import train_test_split\n",
    "import numpy as np\n",
    "import scipy.stats as stats\n",
    "\n",
    "#colnames=['Number', 'Time', 'Temperature', 'Uvx', 'Uvy', 'Uvz', 'Uex', 'Uey', 'Uez']\n",
    "dataset = read_csv('res.csv', sep=',') #names=colnames, header=None)\n",
    "\n",
    "dataset.head()"
   ],
   "outputs": [
    {
     "data": {
      "text/plain": [
       "   Number  Time  Temperature       Uvx       Uvy       Uvz       Uex  \\\n",
       "0       1   175   303.696396 -4.658513 -5.898589 -3.567033  2.745380   \n",
       "1       2   182   307.713569 -0.799739 -0.019740 -3.964088  0.730010   \n",
       "2       3   195   312.573645 -1.971708  3.424431 -3.939806  1.070360   \n",
       "3       4    26   309.180417  2.485977 -0.693671 -6.412166  1.574913   \n",
       "4       5   240   299.588882 -0.079111 -6.650128 -3.855634  1.709926   \n",
       "\n",
       "        Uey       Uez  Collision  Gas  \n",
       "0 -1.853520  4.392539          0    0  \n",
       "1 -4.444037  2.841238          0    0  \n",
       "2 -2.532539  2.700840          0    0  \n",
       "3  0.404154  4.182970          0    0  \n",
       "4 -0.126030  6.029875          0    0  "
      ],
      "text/html": [
       "<div>\n",
       "<style scoped>\n",
       "    .dataframe tbody tr th:only-of-type {\n",
       "        vertical-align: middle;\n",
       "    }\n",
       "\n",
       "    .dataframe tbody tr th {\n",
       "        vertical-align: top;\n",
       "    }\n",
       "\n",
       "    .dataframe thead th {\n",
       "        text-align: right;\n",
       "    }\n",
       "</style>\n",
       "<table border=\"1\" class=\"dataframe\">\n",
       "  <thead>\n",
       "    <tr style=\"text-align: right;\">\n",
       "      <th></th>\n",
       "      <th>Number</th>\n",
       "      <th>Time</th>\n",
       "      <th>Temperature</th>\n",
       "      <th>Uvx</th>\n",
       "      <th>Uvy</th>\n",
       "      <th>Uvz</th>\n",
       "      <th>Uex</th>\n",
       "      <th>Uey</th>\n",
       "      <th>Uez</th>\n",
       "      <th>Collision</th>\n",
       "      <th>Gas</th>\n",
       "    </tr>\n",
       "  </thead>\n",
       "  <tbody>\n",
       "    <tr>\n",
       "      <th>0</th>\n",
       "      <td>1</td>\n",
       "      <td>175</td>\n",
       "      <td>303.696396</td>\n",
       "      <td>-4.658513</td>\n",
       "      <td>-5.898589</td>\n",
       "      <td>-3.567033</td>\n",
       "      <td>2.745380</td>\n",
       "      <td>-1.853520</td>\n",
       "      <td>4.392539</td>\n",
       "      <td>0</td>\n",
       "      <td>0</td>\n",
       "    </tr>\n",
       "    <tr>\n",
       "      <th>1</th>\n",
       "      <td>2</td>\n",
       "      <td>182</td>\n",
       "      <td>307.713569</td>\n",
       "      <td>-0.799739</td>\n",
       "      <td>-0.019740</td>\n",
       "      <td>-3.964088</td>\n",
       "      <td>0.730010</td>\n",
       "      <td>-4.444037</td>\n",
       "      <td>2.841238</td>\n",
       "      <td>0</td>\n",
       "      <td>0</td>\n",
       "    </tr>\n",
       "    <tr>\n",
       "      <th>2</th>\n",
       "      <td>3</td>\n",
       "      <td>195</td>\n",
       "      <td>312.573645</td>\n",
       "      <td>-1.971708</td>\n",
       "      <td>3.424431</td>\n",
       "      <td>-3.939806</td>\n",
       "      <td>1.070360</td>\n",
       "      <td>-2.532539</td>\n",
       "      <td>2.700840</td>\n",
       "      <td>0</td>\n",
       "      <td>0</td>\n",
       "    </tr>\n",
       "    <tr>\n",
       "      <th>3</th>\n",
       "      <td>4</td>\n",
       "      <td>26</td>\n",
       "      <td>309.180417</td>\n",
       "      <td>2.485977</td>\n",
       "      <td>-0.693671</td>\n",
       "      <td>-6.412166</td>\n",
       "      <td>1.574913</td>\n",
       "      <td>0.404154</td>\n",
       "      <td>4.182970</td>\n",
       "      <td>0</td>\n",
       "      <td>0</td>\n",
       "    </tr>\n",
       "    <tr>\n",
       "      <th>4</th>\n",
       "      <td>5</td>\n",
       "      <td>240</td>\n",
       "      <td>299.588882</td>\n",
       "      <td>-0.079111</td>\n",
       "      <td>-6.650128</td>\n",
       "      <td>-3.855634</td>\n",
       "      <td>1.709926</td>\n",
       "      <td>-0.126030</td>\n",
       "      <td>6.029875</td>\n",
       "      <td>0</td>\n",
       "      <td>0</td>\n",
       "    </tr>\n",
       "  </tbody>\n",
       "</table>\n",
       "</div>"
      ]
     },
     "execution_count": 2,
     "metadata": {},
     "output_type": "execute_result"
    }
   ],
   "execution_count": 2
  },
  {
   "metadata": {
    "ExecuteTime": {
     "end_time": "2024-04-25T06:39:30.857577Z",
     "start_time": "2024-04-25T06:39:30.580627Z"
    }
   },
   "cell_type": "code",
   "source": [
    "#find absolute value of z-score for each observation\n",
    "z = np.abs(stats.zscore(dataset))\n",
    "\n",
    "#only keep rows in dataframe with all z-scores less than absolute value of 3 \n",
    "data_clean = dataset[(z<3).all(axis=1)]\n",
    "\n",
    "#find how many rows are left in the dataframe \n",
    "dataset = data_clean\n",
    "data_clean.shape"
   ],
   "id": "43032510c48909db",
   "outputs": [
    {
     "data": {
      "text/plain": [
       "(372413, 11)"
      ]
     },
     "execution_count": 3,
     "metadata": {},
     "output_type": "execute_result"
    }
   ],
   "execution_count": 3
  },
  {
   "metadata": {
    "ExecuteTime": {
     "end_time": "2024-04-25T06:39:34.033310Z",
     "start_time": "2024-04-25T06:39:33.582849Z"
    }
   },
   "cell_type": "code",
   "source": [
    "Q1 = dataset.quantile(q=0.25)\n",
    "Q3 = dataset.quantile(q=0.75)\n",
    "IQR = dataset.apply(stats.iqr)\n",
    "\n",
    "# Оставляем только строки в DataFrame, значения которых находятся в пределах 1.5*IQR от Q1 и Q3\n",
    "data_clean = dataset[~((dataset < (Q1 - 1.5 * IQR)) | (dataset > (Q3 + 1.5 * IQR))).any(axis=1)]\n",
    "\n",
    "# Находим количество оставшихся строк в DataFrame\n",
    "data_clean.shape"
   ],
   "id": "b0c31ba470a61c02",
   "outputs": [
    {
     "data": {
      "text/plain": [
       "(264518, 11)"
      ]
     },
     "execution_count": 4,
     "metadata": {},
     "output_type": "execute_result"
    }
   ],
   "execution_count": 4
  },
  {
   "cell_type": "code",
   "execution_count": 96,
   "outputs": [],
   "source": [
    "data_clean.to_csv('data_clean.csv', index=False)"
   ],
   "metadata": {
    "collapsed": false,
    "ExecuteTime": {
     "end_time": "2024-04-24T23:05:22.138700200Z",
     "start_time": "2024-04-24T23:05:20.334655600Z"
    }
   },
   "id": "8636a45a8f742cf2"
  },
  {
   "cell_type": "code",
   "execution_count": 114,
   "outputs": [
    {
     "data": {
      "text/plain": "              Number           Time    Temperature            Uvx  \\\ncount  264518.000000  264518.000000  264518.000000  264518.000000   \nmean    50085.142898     125.308402     300.037890       0.015961   \nstd     28866.519438      99.101756       9.111471       3.911661   \nmin         1.000000       9.000000     274.830314     -10.641850   \n25%     25074.000000      41.000000     293.739897      -2.330173   \n50%     50153.500000     101.000000     299.964825       0.007544   \n75%     75155.000000     171.000000     306.266853       2.352821   \nmax     99999.000000     437.000000     325.155913      10.667716   \n\n                 Uvy            Uvz            Uex            Uey  \\\ncount  264518.000000  264518.000000  264518.000000  264518.000000   \nmean        0.018715      -5.595860       0.009394       0.007820   \nstd         3.907863       4.036903       3.906254       3.911062   \nmin       -10.616862     -18.283829     -10.637627     -10.622561   \n25%        -2.325106      -7.701878      -2.329712      -2.347392   \n50%         0.020690      -4.322550       0.001939       0.000870   \n75%         2.363421      -2.587855       2.355024       2.350308   \nmax        10.648791      -0.007954      10.643975      10.641741   \n\n                 Uez      Collision            Gas  \ncount  264518.000000  264518.000000  264518.000000  \nmean        5.588314       0.514150       0.406744  \nstd         4.047935       0.499801       0.491227  \nmin         0.000213       0.000000       0.000000  \n25%         2.571891       0.000000       0.000000  \n50%         4.311346       1.000000       0.000000  \n75%         7.710405       1.000000       1.000000  \nmax        18.339096       1.000000       1.000000  ",
      "text/html": "<div>\n<style scoped>\n    .dataframe tbody tr th:only-of-type {\n        vertical-align: middle;\n    }\n\n    .dataframe tbody tr th {\n        vertical-align: top;\n    }\n\n    .dataframe thead th {\n        text-align: right;\n    }\n</style>\n<table border=\"1\" class=\"dataframe\">\n  <thead>\n    <tr style=\"text-align: right;\">\n      <th></th>\n      <th>Number</th>\n      <th>Time</th>\n      <th>Temperature</th>\n      <th>Uvx</th>\n      <th>Uvy</th>\n      <th>Uvz</th>\n      <th>Uex</th>\n      <th>Uey</th>\n      <th>Uez</th>\n      <th>Collision</th>\n      <th>Gas</th>\n    </tr>\n  </thead>\n  <tbody>\n    <tr>\n      <th>count</th>\n      <td>264518.000000</td>\n      <td>264518.000000</td>\n      <td>264518.000000</td>\n      <td>264518.000000</td>\n      <td>264518.000000</td>\n      <td>264518.000000</td>\n      <td>264518.000000</td>\n      <td>264518.000000</td>\n      <td>264518.000000</td>\n      <td>264518.000000</td>\n      <td>264518.000000</td>\n    </tr>\n    <tr>\n      <th>mean</th>\n      <td>50085.142898</td>\n      <td>125.308402</td>\n      <td>300.037890</td>\n      <td>0.015961</td>\n      <td>0.018715</td>\n      <td>-5.595860</td>\n      <td>0.009394</td>\n      <td>0.007820</td>\n      <td>5.588314</td>\n      <td>0.514150</td>\n      <td>0.406744</td>\n    </tr>\n    <tr>\n      <th>std</th>\n      <td>28866.519438</td>\n      <td>99.101756</td>\n      <td>9.111471</td>\n      <td>3.911661</td>\n      <td>3.907863</td>\n      <td>4.036903</td>\n      <td>3.906254</td>\n      <td>3.911062</td>\n      <td>4.047935</td>\n      <td>0.499801</td>\n      <td>0.491227</td>\n    </tr>\n    <tr>\n      <th>min</th>\n      <td>1.000000</td>\n      <td>9.000000</td>\n      <td>274.830314</td>\n      <td>-10.641850</td>\n      <td>-10.616862</td>\n      <td>-18.283829</td>\n      <td>-10.637627</td>\n      <td>-10.622561</td>\n      <td>0.000213</td>\n      <td>0.000000</td>\n      <td>0.000000</td>\n    </tr>\n    <tr>\n      <th>25%</th>\n      <td>25074.000000</td>\n      <td>41.000000</td>\n      <td>293.739897</td>\n      <td>-2.330173</td>\n      <td>-2.325106</td>\n      <td>-7.701878</td>\n      <td>-2.329712</td>\n      <td>-2.347392</td>\n      <td>2.571891</td>\n      <td>0.000000</td>\n      <td>0.000000</td>\n    </tr>\n    <tr>\n      <th>50%</th>\n      <td>50153.500000</td>\n      <td>101.000000</td>\n      <td>299.964825</td>\n      <td>0.007544</td>\n      <td>0.020690</td>\n      <td>-4.322550</td>\n      <td>0.001939</td>\n      <td>0.000870</td>\n      <td>4.311346</td>\n      <td>1.000000</td>\n      <td>0.000000</td>\n    </tr>\n    <tr>\n      <th>75%</th>\n      <td>75155.000000</td>\n      <td>171.000000</td>\n      <td>306.266853</td>\n      <td>2.352821</td>\n      <td>2.363421</td>\n      <td>-2.587855</td>\n      <td>2.355024</td>\n      <td>2.350308</td>\n      <td>7.710405</td>\n      <td>1.000000</td>\n      <td>1.000000</td>\n    </tr>\n    <tr>\n      <th>max</th>\n      <td>99999.000000</td>\n      <td>437.000000</td>\n      <td>325.155913</td>\n      <td>10.667716</td>\n      <td>10.648791</td>\n      <td>-0.007954</td>\n      <td>10.643975</td>\n      <td>10.641741</td>\n      <td>18.339096</td>\n      <td>1.000000</td>\n      <td>1.000000</td>\n    </tr>\n  </tbody>\n</table>\n</div>"
     },
     "execution_count": 114,
     "metadata": {},
     "output_type": "execute_result"
    }
   ],
   "source": [
    "data_clean.describe()"
   ],
   "metadata": {
    "collapsed": false,
    "ExecuteTime": {
     "end_time": "2024-04-24T23:38:48.450417200Z",
     "start_time": "2024-04-24T23:38:47.686490500Z"
    }
   },
   "id": "42f453a4a71fa76d"
  },
  {
   "metadata": {
    "ExecuteTime": {
     "end_time": "2024-04-24T20:37:39.198580500Z",
     "start_time": "2024-04-24T20:37:38.988965200Z"
    }
   },
   "cell_type": "code",
   "source": [
    "dataset.corr()"
   ],
   "id": "3a1e2605a16a7985",
   "outputs": [
    {
     "data": {
      "text/plain": "               Number      Time  Temperature       Uvx       Uvy       Uvz  \\\nNumber       1.000000 -0.004283     0.001134 -0.003806 -0.001069 -0.001097   \nTime        -0.004283  1.000000    -0.006679  0.000914 -0.001343  0.147005   \nTemperature  0.001134 -0.006679     1.000000 -0.000391 -0.005849  0.000349   \nUvx         -0.003806  0.000914    -0.000391  1.000000  0.003032  0.005799   \nUvy         -0.001069 -0.001343    -0.005849  0.003032  1.000000  0.000570   \nUvz         -0.001097  0.147005     0.000349  0.005799  0.000570  1.000000   \nUex          0.000485  0.000468     0.003691  0.305235 -0.003143  0.000325   \nUey          0.001347  0.001124    -0.002598 -0.006787  0.310942 -0.004770   \nUez         -0.003931 -0.149089    -0.003538 -0.000514 -0.001374 -0.141900   \n\n                  Uex       Uey       Uez  \nNumber       0.000485  0.001347 -0.003931  \nTime         0.000468  0.001124 -0.149089  \nTemperature  0.003691 -0.002598 -0.003538  \nUvx          0.305235 -0.006787 -0.000514  \nUvy         -0.003143  0.310942 -0.001374  \nUvz          0.000325 -0.004770 -0.141900  \nUex          1.000000 -0.000989 -0.000380  \nUey         -0.000989  1.000000 -0.002100  \nUez         -0.000380 -0.002100  1.000000  ",
      "text/html": "<div>\n<style scoped>\n    .dataframe tbody tr th:only-of-type {\n        vertical-align: middle;\n    }\n\n    .dataframe tbody tr th {\n        vertical-align: top;\n    }\n\n    .dataframe thead th {\n        text-align: right;\n    }\n</style>\n<table border=\"1\" class=\"dataframe\">\n  <thead>\n    <tr style=\"text-align: right;\">\n      <th></th>\n      <th>Number</th>\n      <th>Time</th>\n      <th>Temperature</th>\n      <th>Uvx</th>\n      <th>Uvy</th>\n      <th>Uvz</th>\n      <th>Uex</th>\n      <th>Uey</th>\n      <th>Uez</th>\n    </tr>\n  </thead>\n  <tbody>\n    <tr>\n      <th>Number</th>\n      <td>1.000000</td>\n      <td>-0.004283</td>\n      <td>0.001134</td>\n      <td>-0.003806</td>\n      <td>-0.001069</td>\n      <td>-0.001097</td>\n      <td>0.000485</td>\n      <td>0.001347</td>\n      <td>-0.003931</td>\n    </tr>\n    <tr>\n      <th>Time</th>\n      <td>-0.004283</td>\n      <td>1.000000</td>\n      <td>-0.006679</td>\n      <td>0.000914</td>\n      <td>-0.001343</td>\n      <td>0.147005</td>\n      <td>0.000468</td>\n      <td>0.001124</td>\n      <td>-0.149089</td>\n    </tr>\n    <tr>\n      <th>Temperature</th>\n      <td>0.001134</td>\n      <td>-0.006679</td>\n      <td>1.000000</td>\n      <td>-0.000391</td>\n      <td>-0.005849</td>\n      <td>0.000349</td>\n      <td>0.003691</td>\n      <td>-0.002598</td>\n      <td>-0.003538</td>\n    </tr>\n    <tr>\n      <th>Uvx</th>\n      <td>-0.003806</td>\n      <td>0.000914</td>\n      <td>-0.000391</td>\n      <td>1.000000</td>\n      <td>0.003032</td>\n      <td>0.005799</td>\n      <td>0.305235</td>\n      <td>-0.006787</td>\n      <td>-0.000514</td>\n    </tr>\n    <tr>\n      <th>Uvy</th>\n      <td>-0.001069</td>\n      <td>-0.001343</td>\n      <td>-0.005849</td>\n      <td>0.003032</td>\n      <td>1.000000</td>\n      <td>0.000570</td>\n      <td>-0.003143</td>\n      <td>0.310942</td>\n      <td>-0.001374</td>\n    </tr>\n    <tr>\n      <th>Uvz</th>\n      <td>-0.001097</td>\n      <td>0.147005</td>\n      <td>0.000349</td>\n      <td>0.005799</td>\n      <td>0.000570</td>\n      <td>1.000000</td>\n      <td>0.000325</td>\n      <td>-0.004770</td>\n      <td>-0.141900</td>\n    </tr>\n    <tr>\n      <th>Uex</th>\n      <td>0.000485</td>\n      <td>0.000468</td>\n      <td>0.003691</td>\n      <td>0.305235</td>\n      <td>-0.003143</td>\n      <td>0.000325</td>\n      <td>1.000000</td>\n      <td>-0.000989</td>\n      <td>-0.000380</td>\n    </tr>\n    <tr>\n      <th>Uey</th>\n      <td>0.001347</td>\n      <td>0.001124</td>\n      <td>-0.002598</td>\n      <td>-0.006787</td>\n      <td>0.310942</td>\n      <td>-0.004770</td>\n      <td>-0.000989</td>\n      <td>1.000000</td>\n      <td>-0.002100</td>\n    </tr>\n    <tr>\n      <th>Uez</th>\n      <td>-0.003931</td>\n      <td>-0.149089</td>\n      <td>-0.003538</td>\n      <td>-0.000514</td>\n      <td>-0.001374</td>\n      <td>-0.141900</td>\n      <td>-0.000380</td>\n      <td>-0.002100</td>\n      <td>1.000000</td>\n    </tr>\n  </tbody>\n</table>\n</div>"
     },
     "execution_count": 5,
     "metadata": {},
     "output_type": "execute_result"
    }
   ],
   "execution_count": 5
  },
  {
   "metadata": {
    "ExecuteTime": {
     "end_time": "2024-04-24T12:30:15.038262Z",
     "start_time": "2024-04-24T12:30:14.959481Z"
    }
   },
   "cell_type": "code",
   "source": [
    "dataset = dataset.query('Time < 1001')\n",
    "dataset = dataset.query('Temperature < 401')"
   ],
   "id": "43b4a639093ba8b0",
   "outputs": [],
   "execution_count": 209
  },
  {
   "metadata": {
    "ExecuteTime": {
     "end_time": "2024-04-24T23:39:04.100911300Z",
     "start_time": "2024-04-24T23:39:03.862721Z"
    }
   },
   "cell_type": "code",
   "source": [
    "dataset.info()"
   ],
   "id": "4c2e7df953536493",
   "outputs": [
    {
     "name": "stdout",
     "output_type": "stream",
     "text": [
      "<class 'pandas.core.frame.DataFrame'>\n",
      "Index: 372413 entries, 0 to 399995\n",
      "Data columns (total 11 columns):\n",
      " #   Column       Non-Null Count   Dtype  \n",
      "---  ------       --------------   -----  \n",
      " 0   Number       372413 non-null  int64  \n",
      " 1   Time         372413 non-null  int64  \n",
      " 2   Temperature  372413 non-null  float64\n",
      " 3   Uvx          372413 non-null  float64\n",
      " 4   Uvy          372413 non-null  float64\n",
      " 5   Uvz          372413 non-null  float64\n",
      " 6   Uex          372413 non-null  float64\n",
      " 7   Uey          372413 non-null  float64\n",
      " 8   Uez          372413 non-null  float64\n",
      " 9   Collision    372413 non-null  int64  \n",
      " 10  Gas          372413 non-null  int64  \n",
      "dtypes: float64(7), int64(4)\n",
      "memory usage: 34.1 MB\n"
     ]
    }
   ],
   "execution_count": 115
  },
  {
   "metadata": {
    "ExecuteTime": {
     "end_time": "2024-04-25T06:39:46.020708Z",
     "start_time": "2024-04-25T06:39:45.960114Z"
    }
   },
   "cell_type": "code",
   "source": [
    "trg = data_clean.drop(['Number', 'Time'], axis=1)[['Uex','Uey', 'Uez']]\n",
    "trn = data_clean.drop(['Number', 'Uex','Uey', 'Uez'], axis=1)"
   ],
   "id": "59579b52803cca66",
   "outputs": [],
   "execution_count": 5
  },
  {
   "metadata": {
    "ExecuteTime": {
     "end_time": "2024-04-25T06:39:50.292071Z",
     "start_time": "2024-04-25T06:39:50.200931Z"
    }
   },
   "cell_type": "code",
   "source": [
    "Xtrn, Xtest, Ytrn, Ytest = train_test_split(trn, trg, test_size=0.3)"
   ],
   "id": "466c7b032627746f",
   "outputs": [],
   "execution_count": 6
  },
  {
   "cell_type": "code",
   "execution_count": 84,
   "outputs": [
    {
     "data": {
      "text/plain": "       Time  Temperature       Uvx       Uvy       Uvz\n23595   376   293.756408 -1.077858 -4.100347 -2.317217\n54176   134   292.042688 -0.669664 -1.321128 -5.942976\n82369    32   283.409417 -1.261288  2.240486 -2.642635\n73027    84   306.349795 -0.302678 -1.590172 -1.530045\n53888    46   294.119707 -0.720733 -3.965174 -0.265925\n...     ...          ...       ...       ...       ...\n83676    82   285.857245  2.222786  0.734139 -2.937676\n66710    30   307.613611  2.718507 -1.039213 -2.396189\n46913   107   292.294441  1.119810 -0.253573 -1.185022\n48507    31   302.451028 -4.388996 -1.014578 -3.965820\n96722   559   298.802528  1.923567 -0.286451 -3.926876\n\n[26039 rows x 5 columns]",
      "text/html": "<div>\n<style scoped>\n    .dataframe tbody tr th:only-of-type {\n        vertical-align: middle;\n    }\n\n    .dataframe tbody tr th {\n        vertical-align: top;\n    }\n\n    .dataframe thead th {\n        text-align: right;\n    }\n</style>\n<table border=\"1\" class=\"dataframe\">\n  <thead>\n    <tr style=\"text-align: right;\">\n      <th></th>\n      <th>Time</th>\n      <th>Temperature</th>\n      <th>Uvx</th>\n      <th>Uvy</th>\n      <th>Uvz</th>\n    </tr>\n  </thead>\n  <tbody>\n    <tr>\n      <th>23595</th>\n      <td>376</td>\n      <td>293.756408</td>\n      <td>-1.077858</td>\n      <td>-4.100347</td>\n      <td>-2.317217</td>\n    </tr>\n    <tr>\n      <th>54176</th>\n      <td>134</td>\n      <td>292.042688</td>\n      <td>-0.669664</td>\n      <td>-1.321128</td>\n      <td>-5.942976</td>\n    </tr>\n    <tr>\n      <th>82369</th>\n      <td>32</td>\n      <td>283.409417</td>\n      <td>-1.261288</td>\n      <td>2.240486</td>\n      <td>-2.642635</td>\n    </tr>\n    <tr>\n      <th>73027</th>\n      <td>84</td>\n      <td>306.349795</td>\n      <td>-0.302678</td>\n      <td>-1.590172</td>\n      <td>-1.530045</td>\n    </tr>\n    <tr>\n      <th>53888</th>\n      <td>46</td>\n      <td>294.119707</td>\n      <td>-0.720733</td>\n      <td>-3.965174</td>\n      <td>-0.265925</td>\n    </tr>\n    <tr>\n      <th>...</th>\n      <td>...</td>\n      <td>...</td>\n      <td>...</td>\n      <td>...</td>\n      <td>...</td>\n    </tr>\n    <tr>\n      <th>83676</th>\n      <td>82</td>\n      <td>285.857245</td>\n      <td>2.222786</td>\n      <td>0.734139</td>\n      <td>-2.937676</td>\n    </tr>\n    <tr>\n      <th>66710</th>\n      <td>30</td>\n      <td>307.613611</td>\n      <td>2.718507</td>\n      <td>-1.039213</td>\n      <td>-2.396189</td>\n    </tr>\n    <tr>\n      <th>46913</th>\n      <td>107</td>\n      <td>292.294441</td>\n      <td>1.119810</td>\n      <td>-0.253573</td>\n      <td>-1.185022</td>\n    </tr>\n    <tr>\n      <th>48507</th>\n      <td>31</td>\n      <td>302.451028</td>\n      <td>-4.388996</td>\n      <td>-1.014578</td>\n      <td>-3.965820</td>\n    </tr>\n    <tr>\n      <th>96722</th>\n      <td>559</td>\n      <td>298.802528</td>\n      <td>1.923567</td>\n      <td>-0.286451</td>\n      <td>-3.926876</td>\n    </tr>\n  </tbody>\n</table>\n<p>26039 rows × 5 columns</p>\n</div>"
     },
     "execution_count": 84,
     "metadata": {},
     "output_type": "execute_result"
    }
   ],
   "source": [
    "Xtest"
   ],
   "metadata": {
    "collapsed": false,
    "ExecuteTime": {
     "end_time": "2024-04-24T22:55:49.372397400Z",
     "start_time": "2024-04-24T22:55:49.335214800Z"
    }
   },
   "id": "2e64c4e066f5625d"
  },
  {
   "metadata": {
    "ExecuteTime": {
     "end_time": "2024-04-25T06:49:42.298599Z",
     "start_time": "2024-04-25T06:49:42.291555Z"
    }
   },
   "cell_type": "code",
   "source": [
    "model = RandomForestRegressor(n_estimators=200, max_depth=10, verbose=2, n_jobs=8)\n",
    "# model = GradientBoosting(verbose=2, n_jobs=8)\n",
    "# model = RandomForestRegressor(n_estimators=200, verbose=2, n_jobs=8, max_depth=10, min_samples_split=2, min_impurity_decrease=3)\n",
    "#{'criterion': 'squared_error', 'max_depth': 10, 'min_samples_leaf': 2, 'min_samples_split': 3, 'n_estimators': 200}"
   ],
   "id": "1fa0fc4f9c49cd61",
   "outputs": [],
   "execution_count": 35
  },
  {
   "metadata": {
    "ExecuteTime": {
     "end_time": "2024-04-25T06:50:54.599166Z",
     "start_time": "2024-04-25T06:49:44.002674Z"
    }
   },
   "cell_type": "code",
   "source": [
    "%%time\n",
    "model.fit(Xtrn, Ytrn)"
   ],
   "id": "f8a0ee125a36f598",
   "outputs": [
    {
     "name": "stderr",
     "output_type": "stream",
     "text": [
      "[Parallel(n_jobs=8)]: Using backend ThreadingBackend with 8 concurrent workers.\n"
     ]
    },
    {
     "name": "stdout",
     "output_type": "stream",
     "text": [
      "building tree 1 of 200building tree 2 of 200\n",
      "\n",
      "building tree 3 of 200\n",
      "building tree 4 of 200\n",
      "building tree 5 of 200\n",
      "building tree 6 of 200\n",
      "building tree 7 of 200\n",
      "building tree 8 of 200\n",
      "building tree 9 of 200\n",
      "building tree 10 of 200\n",
      "building tree 11 of 200\n",
      "building tree 12 of 200\n",
      "building tree 13 of 200\n",
      "building tree 14 of 200\n",
      "building tree 15 of 200\n",
      "building tree 16 of 200\n",
      "building tree 17 of 200\n",
      "building tree 18 of 200\n",
      "building tree 19 of 200\n",
      "building tree 20 of 200\n",
      "building tree 21 of 200\n",
      "building tree 22 of 200\n",
      "building tree 23 of 200\n",
      "building tree 24 of 200\n",
      "building tree 25 of 200\n",
      "building tree 26 of 200\n",
      "building tree 27 of 200\n",
      "building tree 28 of 200\n",
      "building tree 29 of 200\n",
      "building tree 30 of 200\n",
      "building tree 31 of 200\n",
      "building tree 32 of 200\n",
      "building tree 33 of 200\n",
      "building tree 34 of 200\n",
      "building tree 35 of 200\n"
     ]
    },
    {
     "name": "stderr",
     "output_type": "stream",
     "text": [
      "[Parallel(n_jobs=8)]: Done  25 tasks      | elapsed:   10.2s\n"
     ]
    },
    {
     "name": "stdout",
     "output_type": "stream",
     "text": [
      "building tree 36 of 200\n",
      "building tree 37 of 200\n",
      "building tree 38 of 200\n",
      "building tree 39 of 200\n",
      "building tree 40 of 200\n",
      "building tree 41 of 200\n",
      "building tree 42 of 200\n",
      "building tree 43 of 200\n",
      "building tree 44 of 200\n",
      "building tree 45 of 200\n",
      "building tree 46 of 200\n",
      "building tree 47 of 200\n",
      "building tree 48 of 200\n",
      "building tree 49 of 200\n",
      "building tree 50 of 200\n",
      "building tree 51 of 200\n",
      "building tree 52 of 200\n",
      "building tree 53 of 200\n",
      "building tree 54 of 200\n",
      "building tree 55 of 200\n",
      "building tree 56 of 200\n",
      "building tree 57 of 200\n",
      "building tree 58 of 200\n",
      "building tree 59 of 200\n",
      "building tree 60 of 200\n",
      "building tree 61 of 200\n",
      "building tree 62 of 200\n",
      "building tree 63 of 200\n",
      "building tree 64 of 200\n",
      "building tree 65 of 200\n",
      "building tree 66 of 200\n",
      "building tree 67 of 200\n",
      "building tree 68 of 200\n",
      "building tree 69 of 200\n",
      "building tree 70 of 200\n",
      "building tree 71 of 200\n",
      "building tree 72 of 200\n",
      "building tree 73 of 200\n",
      "building tree 74 of 200\n",
      "building tree 75 of 200\n",
      "building tree 76 of 200\n",
      "building tree 77 of 200\n",
      "building tree 78 of 200\n",
      "building tree 79 of 200\n",
      "building tree 80 of 200\n",
      "building tree 81 of 200\n",
      "building tree 82 of 200\n",
      "building tree 83 of 200\n",
      "building tree 84 of 200\n",
      "building tree 85 of 200\n",
      "building tree 86 of 200\n",
      "building tree 87 of 200\n",
      "building tree 88 of 200\n",
      "building tree 89 of 200\n",
      "building tree 90 of 200\n",
      "building tree 91 of 200\n",
      "building tree 92 of 200\n",
      "building tree 93 of 200\n",
      "building tree 94 of 200\n",
      "building tree 95 of 200\n",
      "building tree 96 of 200\n",
      "building tree 97 of 200\n",
      "building tree 98 of 200\n",
      "building tree 99 of 200\n",
      "building tree 100 of 200\n",
      "building tree 101 of 200\n",
      "building tree 102 of 200\n",
      "building tree 103 of 200\n",
      "building tree 104 of 200\n",
      "building tree 105 of 200\n",
      "building tree 106 of 200\n",
      "building tree 107 of 200\n",
      "building tree 108 of 200\n",
      "building tree 109 of 200\n",
      "building tree 110 of 200\n",
      "building tree 111 of 200\n",
      "building tree 112 of 200\n",
      "building tree 113 of 200\n",
      "building tree 114 of 200\n",
      "building tree 115 of 200\n",
      "building tree 116 of 200\n",
      "building tree 117 of 200\n",
      "building tree 118 of 200\n",
      "building tree 119 of 200building tree 120 of 200\n",
      "\n",
      "building tree 121 of 200\n",
      "building tree 122 of 200\n",
      "building tree 123 of 200\n",
      "building tree 124 of 200\n",
      "building tree 125 of 200\n",
      "building tree 126 of 200\n",
      "building tree 127 of 200\n",
      "building tree 128 of 200\n",
      "building tree 129 of 200\n",
      "building tree 130 of 200\n",
      "building tree 131 of 200\n",
      "building tree 132 of 200\n",
      "building tree 133 of 200\n",
      "building tree 134 of 200\n",
      "building tree 135 of 200\n",
      "building tree 136 of 200\n",
      "building tree 137 of 200\n",
      "building tree 138 of 200\n",
      "building tree 139 of 200\n",
      "building tree 140 of 200\n",
      "building tree 141 of 200\n",
      "building tree 142 of 200\n",
      "building tree 143 of 200\n",
      "building tree 144 of 200\n",
      "building tree 145 of 200\n",
      "building tree 146 of 200\n",
      "building tree 147 of 200\n",
      "building tree 148 of 200\n",
      "building tree 149 of 200\n",
      "building tree 150 of 200\n",
      "building tree 151 of 200\n",
      "building tree 152 of 200\n",
      "building tree 153 of 200\n",
      "building tree 154 of 200\n",
      "building tree 155 of 200\n"
     ]
    },
    {
     "name": "stderr",
     "output_type": "stream",
     "text": [
      "[Parallel(n_jobs=8)]: Done 146 tasks      | elapsed:   49.3s\n"
     ]
    },
    {
     "name": "stdout",
     "output_type": "stream",
     "text": [
      "building tree 156 of 200\n",
      "building tree 157 of 200\n",
      "building tree 158 of 200\n",
      "building tree 159 of 200\n",
      "building tree 160 of 200\n",
      "building tree 161 of 200\n",
      "building tree 162 of 200\n",
      "building tree 163 of 200\n",
      "building tree 164 of 200\n",
      "building tree 165 of 200\n",
      "building tree 166 of 200\n",
      "building tree 167 of 200\n",
      "building tree 168 of 200\n",
      "building tree 169 of 200\n",
      "building tree 170 of 200\n",
      "building tree 171 of 200\n",
      "building tree 172 of 200\n",
      "building tree 173 of 200\n",
      "building tree 174 of 200\n",
      "building tree 175 of 200\n",
      "building tree 176 of 200\n",
      "building tree 177 of 200\n",
      "building tree 178 of 200\n",
      "building tree 179 of 200\n",
      "building tree 180 of 200\n",
      "building tree 181 of 200\n",
      "building tree 182 of 200\n",
      "building tree 183 of 200\n",
      "building tree 184 of 200\n",
      "building tree 185 of 200\n",
      "building tree 186 of 200\n",
      "building tree 187 of 200\n",
      "building tree 188 of 200\n",
      "building tree 189 of 200\n",
      "building tree 190 of 200\n",
      "building tree 191 of 200\n",
      "building tree 192 of 200\n",
      "building tree 193 of 200\n",
      "building tree 194 of 200\n",
      "building tree 195 of 200\n",
      "building tree 196 of 200\n",
      "building tree 197 of 200\n",
      "building tree 198 of 200\n",
      "building tree 199 of 200\n",
      "building tree 200 of 200\n",
      "CPU times: total: 6min 36s\n",
      "Wall time: 1min 10s\n"
     ]
    },
    {
     "name": "stderr",
     "output_type": "stream",
     "text": [
      "[Parallel(n_jobs=8)]: Done 200 out of 200 | elapsed:  1.2min finished\n"
     ]
    },
    {
     "data": {
      "text/plain": [
       "RandomForestRegressor(max_depth=10, n_estimators=200, n_jobs=8, verbose=2)"
      ],
      "text/html": [
       "<style>#sk-container-id-2 {color: black;background-color: white;}#sk-container-id-2 pre{padding: 0;}#sk-container-id-2 div.sk-toggleable {background-color: white;}#sk-container-id-2 label.sk-toggleable__label {cursor: pointer;display: block;width: 100%;margin-bottom: 0;padding: 0.3em;box-sizing: border-box;text-align: center;}#sk-container-id-2 label.sk-toggleable__label-arrow:before {content: \"▸\";float: left;margin-right: 0.25em;color: #696969;}#sk-container-id-2 label.sk-toggleable__label-arrow:hover:before {color: black;}#sk-container-id-2 div.sk-estimator:hover label.sk-toggleable__label-arrow:before {color: black;}#sk-container-id-2 div.sk-toggleable__content {max-height: 0;max-width: 0;overflow: hidden;text-align: left;background-color: #f0f8ff;}#sk-container-id-2 div.sk-toggleable__content pre {margin: 0.2em;color: black;border-radius: 0.25em;background-color: #f0f8ff;}#sk-container-id-2 input.sk-toggleable__control:checked~div.sk-toggleable__content {max-height: 200px;max-width: 100%;overflow: auto;}#sk-container-id-2 input.sk-toggleable__control:checked~label.sk-toggleable__label-arrow:before {content: \"▾\";}#sk-container-id-2 div.sk-estimator input.sk-toggleable__control:checked~label.sk-toggleable__label {background-color: #d4ebff;}#sk-container-id-2 div.sk-label input.sk-toggleable__control:checked~label.sk-toggleable__label {background-color: #d4ebff;}#sk-container-id-2 input.sk-hidden--visually {border: 0;clip: rect(1px 1px 1px 1px);clip: rect(1px, 1px, 1px, 1px);height: 1px;margin: -1px;overflow: hidden;padding: 0;position: absolute;width: 1px;}#sk-container-id-2 div.sk-estimator {font-family: monospace;background-color: #f0f8ff;border: 1px dotted black;border-radius: 0.25em;box-sizing: border-box;margin-bottom: 0.5em;}#sk-container-id-2 div.sk-estimator:hover {background-color: #d4ebff;}#sk-container-id-2 div.sk-parallel-item::after {content: \"\";width: 100%;border-bottom: 1px solid gray;flex-grow: 1;}#sk-container-id-2 div.sk-label:hover label.sk-toggleable__label {background-color: #d4ebff;}#sk-container-id-2 div.sk-serial::before {content: \"\";position: absolute;border-left: 1px solid gray;box-sizing: border-box;top: 0;bottom: 0;left: 50%;z-index: 0;}#sk-container-id-2 div.sk-serial {display: flex;flex-direction: column;align-items: center;background-color: white;padding-right: 0.2em;padding-left: 0.2em;position: relative;}#sk-container-id-2 div.sk-item {position: relative;z-index: 1;}#sk-container-id-2 div.sk-parallel {display: flex;align-items: stretch;justify-content: center;background-color: white;position: relative;}#sk-container-id-2 div.sk-item::before, #sk-container-id-2 div.sk-parallel-item::before {content: \"\";position: absolute;border-left: 1px solid gray;box-sizing: border-box;top: 0;bottom: 0;left: 50%;z-index: -1;}#sk-container-id-2 div.sk-parallel-item {display: flex;flex-direction: column;z-index: 1;position: relative;background-color: white;}#sk-container-id-2 div.sk-parallel-item:first-child::after {align-self: flex-end;width: 50%;}#sk-container-id-2 div.sk-parallel-item:last-child::after {align-self: flex-start;width: 50%;}#sk-container-id-2 div.sk-parallel-item:only-child::after {width: 0;}#sk-container-id-2 div.sk-dashed-wrapped {border: 1px dashed gray;margin: 0 0.4em 0.5em 0.4em;box-sizing: border-box;padding-bottom: 0.4em;background-color: white;}#sk-container-id-2 div.sk-label label {font-family: monospace;font-weight: bold;display: inline-block;line-height: 1.2em;}#sk-container-id-2 div.sk-label-container {text-align: center;}#sk-container-id-2 div.sk-container {/* jupyter's `normalize.less` sets `[hidden] { display: none; }` but bootstrap.min.css set `[hidden] { display: none !important; }` so we also need the `!important` here to be able to override the default hidden behavior on the sphinx rendered scikit-learn.org. See: https://github.com/scikit-learn/scikit-learn/issues/21755 */display: inline-block !important;position: relative;}#sk-container-id-2 div.sk-text-repr-fallback {display: none;}</style><div id=\"sk-container-id-2\" class=\"sk-top-container\"><div class=\"sk-text-repr-fallback\"><pre>RandomForestRegressor(max_depth=10, n_estimators=200, n_jobs=8, verbose=2)</pre><b>In a Jupyter environment, please rerun this cell to show the HTML representation or trust the notebook. <br />On GitHub, the HTML representation is unable to render, please try loading this page with nbviewer.org.</b></div><div class=\"sk-container\" hidden><div class=\"sk-item\"><div class=\"sk-estimator sk-toggleable\"><input class=\"sk-toggleable__control sk-hidden--visually\" id=\"sk-estimator-id-2\" type=\"checkbox\" checked><label for=\"sk-estimator-id-2\" class=\"sk-toggleable__label sk-toggleable__label-arrow\">RandomForestRegressor</label><div class=\"sk-toggleable__content\"><pre>RandomForestRegressor(max_depth=10, n_estimators=200, n_jobs=8, verbose=2)</pre></div></div></div></div></div>"
      ]
     },
     "execution_count": 36,
     "metadata": {},
     "output_type": "execute_result"
    }
   ],
   "execution_count": 36
  },
  {
   "metadata": {
    "ExecuteTime": {
     "end_time": "2024-04-25T06:41:35.044609Z",
     "start_time": "2024-04-25T06:41:34.861330Z"
    }
   },
   "cell_type": "code",
   "source": [
    "from joblib import dump, load\n",
    "dump(model, 'itog.joblib')"
   ],
   "id": "81140e6fa3ea6b30",
   "outputs": [
    {
     "data": {
      "text/plain": [
       "['itog.joblib']"
      ]
     },
     "execution_count": 9,
     "metadata": {},
     "output_type": "execute_result"
    }
   ],
   "execution_count": 9
  },
  {
   "metadata": {},
   "cell_type": "code",
   "source": [
    "# model = load('model.joblib')"
   ],
   "id": "57371355a86fb082",
   "outputs": [],
   "execution_count": null
  },
  {
   "metadata": {
    "ExecuteTime": {
     "end_time": "2024-04-24T20:56:51.573643800Z",
     "start_time": "2024-04-24T20:56:51.545860900Z"
    }
   },
   "cell_type": "code",
   "source": [
    "Xtest"
   ],
   "id": "19990f82eabcefbf",
   "outputs": [
    {
     "data": {
      "text/plain": "       Time  Temperature       Uvx       Uvy       Uvz\n69996    94   287.816504 -2.632211 -0.180609 -0.644479\n69997   593   302.933330 -3.750156 -1.251249 -0.383107\n69998    22   288.774862 -2.595163 -1.214030 -3.453837\n69999    43   289.994031  1.136208 -2.898475 -2.304839\n70000   114   308.147086 -0.084551 -1.146960 -5.487979\n...     ...          ...       ...       ...       ...\n99994   687   303.108127  0.874091 -2.620835 -2.138626\n99995    95   307.992792 -1.542888  0.848588 -5.653005\n99996   604   307.992792  2.914242 -1.050735 -3.063296\n99997  1112   298.241611  3.262599  2.136047 -4.333847\n99998   310   288.511887  4.314692 -1.583547 -4.139384\n\n[28669 rows x 5 columns]",
      "text/html": "<div>\n<style scoped>\n    .dataframe tbody tr th:only-of-type {\n        vertical-align: middle;\n    }\n\n    .dataframe tbody tr th {\n        vertical-align: top;\n    }\n\n    .dataframe thead th {\n        text-align: right;\n    }\n</style>\n<table border=\"1\" class=\"dataframe\">\n  <thead>\n    <tr style=\"text-align: right;\">\n      <th></th>\n      <th>Time</th>\n      <th>Temperature</th>\n      <th>Uvx</th>\n      <th>Uvy</th>\n      <th>Uvz</th>\n    </tr>\n  </thead>\n  <tbody>\n    <tr>\n      <th>69996</th>\n      <td>94</td>\n      <td>287.816504</td>\n      <td>-2.632211</td>\n      <td>-0.180609</td>\n      <td>-0.644479</td>\n    </tr>\n    <tr>\n      <th>69997</th>\n      <td>593</td>\n      <td>302.933330</td>\n      <td>-3.750156</td>\n      <td>-1.251249</td>\n      <td>-0.383107</td>\n    </tr>\n    <tr>\n      <th>69998</th>\n      <td>22</td>\n      <td>288.774862</td>\n      <td>-2.595163</td>\n      <td>-1.214030</td>\n      <td>-3.453837</td>\n    </tr>\n    <tr>\n      <th>69999</th>\n      <td>43</td>\n      <td>289.994031</td>\n      <td>1.136208</td>\n      <td>-2.898475</td>\n      <td>-2.304839</td>\n    </tr>\n    <tr>\n      <th>70000</th>\n      <td>114</td>\n      <td>308.147086</td>\n      <td>-0.084551</td>\n      <td>-1.146960</td>\n      <td>-5.487979</td>\n    </tr>\n    <tr>\n      <th>...</th>\n      <td>...</td>\n      <td>...</td>\n      <td>...</td>\n      <td>...</td>\n      <td>...</td>\n    </tr>\n    <tr>\n      <th>99994</th>\n      <td>687</td>\n      <td>303.108127</td>\n      <td>0.874091</td>\n      <td>-2.620835</td>\n      <td>-2.138626</td>\n    </tr>\n    <tr>\n      <th>99995</th>\n      <td>95</td>\n      <td>307.992792</td>\n      <td>-1.542888</td>\n      <td>0.848588</td>\n      <td>-5.653005</td>\n    </tr>\n    <tr>\n      <th>99996</th>\n      <td>604</td>\n      <td>307.992792</td>\n      <td>2.914242</td>\n      <td>-1.050735</td>\n      <td>-3.063296</td>\n    </tr>\n    <tr>\n      <th>99997</th>\n      <td>1112</td>\n      <td>298.241611</td>\n      <td>3.262599</td>\n      <td>2.136047</td>\n      <td>-4.333847</td>\n    </tr>\n    <tr>\n      <th>99998</th>\n      <td>310</td>\n      <td>288.511887</td>\n      <td>4.314692</td>\n      <td>-1.583547</td>\n      <td>-4.139384</td>\n    </tr>\n  </tbody>\n</table>\n<p>28669 rows × 5 columns</p>\n</div>"
     },
     "execution_count": 18,
     "metadata": {},
     "output_type": "execute_result"
    }
   ],
   "execution_count": 18
  },
  {
   "metadata": {
    "ExecuteTime": {
     "end_time": "2024-04-25T06:48:51.008849Z",
     "start_time": "2024-04-25T06:48:50.415412Z"
    }
   },
   "cell_type": "code",
   "source": [
    "test_prediction = model.predict(Xtest)"
   ],
   "id": "15cbb7bd3d548e7",
   "outputs": [
    {
     "name": "stderr",
     "output_type": "stream",
     "text": [
      "[Parallel(n_jobs=8)]: Using backend ThreadingBackend with 8 concurrent workers.\n",
      "[Parallel(n_jobs=8)]: Done  25 tasks      | elapsed:    0.0s\n",
      "[Parallel(n_jobs=8)]: Done 146 tasks      | elapsed:    0.3s\n",
      "[Parallel(n_jobs=8)]: Done 200 out of 200 | elapsed:    0.5s finished\n"
     ]
    }
   ],
   "execution_count": 32
  },
  {
   "metadata": {
    "ExecuteTime": {
     "end_time": "2024-04-24T22:51:16.421856900Z",
     "start_time": "2024-04-24T22:51:16.249908Z"
    }
   },
   "cell_type": "code",
   "source": [
    "test_prediction"
   ],
   "id": "755a0ae422ceda2a",
   "outputs": [
    {
     "data": {
      "text/plain": "array([[ 0.7270165 ,  0.36612362,  2.6266311 ],\n       [-3.82089821,  0.19590864,  4.05407645],\n       [ 0.0220837 ,  0.06560965,  2.77173775],\n       ...,\n       [ 1.50797867, -0.82266826,  4.92540855],\n       [-0.07964781,  0.1633072 ,  2.74698578],\n       [-0.00520561,  0.08337911,  2.75193799]])"
     },
     "execution_count": 79,
     "metadata": {},
     "output_type": "execute_result"
    }
   ],
   "execution_count": 79
  },
  {
   "metadata": {
    "ExecuteTime": {
     "end_time": "2024-04-25T06:48:54.890210Z",
     "start_time": "2024-04-25T06:48:54.852272Z"
    }
   },
   "cell_type": "code",
   "source": [
    "from sklearn.metrics import mean_absolute_error,mean_squared_error, r2_score\n",
    "import numpy as np\n",
    "MAE = mean_absolute_error(Ytest, test_prediction)\n",
    "MSE = mean_squared_error(Ytest, test_prediction)\n",
    "RMSE = np.sqrt(MSE)\n",
    "r2 = r2_score(Ytest, test_prediction)\n",
    "for key, value in {'MAE': MAE, 'MSE': MSE, 'RMSE': RMSE, 'r2': r2}.items():\n",
    "    print(key, value)"
   ],
   "id": "69a61bd6885ed0c1",
   "outputs": [
    {
     "name": "stdout",
     "output_type": "stream",
     "text": [
      "MAE 1.4590120150602541\n",
      "MSE 4.438430940760053\n",
      "RMSE 2.1067583963900685\n",
      "r2 0.7120202575594549\n"
     ]
    }
   ],
   "execution_count": 33
  },
  {
   "cell_type": "code",
   "execution_count": null,
   "outputs": [],
   "source": [],
   "metadata": {
    "collapsed": false
   },
   "id": "3b44f68545df7278"
  },
  {
   "metadata": {
    "ExecuteTime": {
     "end_time": "2024-04-25T06:47:35.799868Z",
     "start_time": "2024-04-25T06:47:35.777649Z"
    }
   },
   "cell_type": "code",
   "source": [
    "dictionary = dict(zip(['Time', 'Temperature', 'Uvx', 'Uvy', 'Uvz', 'Collision', 'Gas'], [[175],[303.696395975584],[-4.65851294521058],[-5.89858912205267],[-3.56703257911055],[0], [0]])) \n",
    "\n",
    "# 1 175 303.696395975584 -4.65851294521058 -5.89858912205267 -3.56703257911055 2.74537969604819 -1.85351971789969 4.39253856575895\n",
    "# 72684 221 306.602445023578 0.718161050587478 -1.13182246685776 -2.12674293208305 1.10781565600769 1.99713134032302 2.64555549117115\n",
    "# 42506 50 301.347507320898 -1.41671510971763 -2.14174811027822 -1.11212950724402 0.734497724115191 -1.47629909445715 4.79132930824164\n",
    "# 11992 1056 309.182999268812 -1.22712245755122 -3.67291269437087 -1.43325401403072 -3.23504710752761 4.85529234257236 2.89969362393692\n",
    "# 93185 2068 307.574859478378 -2.18740234743032 -3.13065303296741 -1.38760829911377 2.19455825716011 1.30812834219089 5.73225918174957\n",
    "\n",
    "print(dictionary)\n",
    "\n",
    "array = DataFrame(dictionary)\n",
    "array"
   ],
   "id": "d51ebbd3aeec7d80",
   "outputs": [
    {
     "name": "stdout",
     "output_type": "stream",
     "text": [
      "{'Time': [175], 'Temperature': [303.696395975584], 'Uvx': [-4.65851294521058], 'Uvy': [-5.89858912205267], 'Uvz': [-3.56703257911055], 'Collision': [0], 'Gas': [0]}\n"
     ]
    },
    {
     "data": {
      "text/plain": [
       "   Time  Temperature       Uvx       Uvy       Uvz  Collision  Gas\n",
       "0   175   303.696396 -4.658513 -5.898589 -3.567033          0    0"
      ],
      "text/html": [
       "<div>\n",
       "<style scoped>\n",
       "    .dataframe tbody tr th:only-of-type {\n",
       "        vertical-align: middle;\n",
       "    }\n",
       "\n",
       "    .dataframe tbody tr th {\n",
       "        vertical-align: top;\n",
       "    }\n",
       "\n",
       "    .dataframe thead th {\n",
       "        text-align: right;\n",
       "    }\n",
       "</style>\n",
       "<table border=\"1\" class=\"dataframe\">\n",
       "  <thead>\n",
       "    <tr style=\"text-align: right;\">\n",
       "      <th></th>\n",
       "      <th>Time</th>\n",
       "      <th>Temperature</th>\n",
       "      <th>Uvx</th>\n",
       "      <th>Uvy</th>\n",
       "      <th>Uvz</th>\n",
       "      <th>Collision</th>\n",
       "      <th>Gas</th>\n",
       "    </tr>\n",
       "  </thead>\n",
       "  <tbody>\n",
       "    <tr>\n",
       "      <th>0</th>\n",
       "      <td>175</td>\n",
       "      <td>303.696396</td>\n",
       "      <td>-4.658513</td>\n",
       "      <td>-5.898589</td>\n",
       "      <td>-3.567033</td>\n",
       "      <td>0</td>\n",
       "      <td>0</td>\n",
       "    </tr>\n",
       "  </tbody>\n",
       "</table>\n",
       "</div>"
      ]
     },
     "execution_count": 20,
     "metadata": {},
     "output_type": "execute_result"
    }
   ],
   "execution_count": 20
  },
  {
   "metadata": {
    "ExecuteTime": {
     "end_time": "2024-04-25T06:48:12.347179Z",
     "start_time": "2024-04-25T06:48:12.285115Z"
    }
   },
   "cell_type": "code",
   "source": [
    "%%time\n",
    "model.predict(array)"
   ],
   "id": "950f86a4640b43c7",
   "outputs": [
    {
     "name": "stdout",
     "output_type": "stream",
     "text": [
      "CPU times: total: 15.6 ms\n",
      "Wall time: 51.4 ms\n"
     ]
    },
    {
     "name": "stderr",
     "output_type": "stream",
     "text": [
      "[Parallel(n_jobs=8)]: Using backend ThreadingBackend with 8 concurrent workers.\n",
      "[Parallel(n_jobs=8)]: Done  25 tasks      | elapsed:    0.0s\n",
      "[Parallel(n_jobs=8)]: Done 146 tasks      | elapsed:    0.0s\n",
      "[Parallel(n_jobs=8)]: Done 200 out of 200 | elapsed:    0.0s finished\n"
     ]
    },
    {
     "data": {
      "text/plain": [
       "array([[-0.12702364, -0.12594717,  2.84534954]])"
      ]
     },
     "execution_count": 30,
     "metadata": {},
     "output_type": "execute_result"
    }
   ],
   "execution_count": 30
  },
  {
   "cell_type": "code",
   "execution_count": 91,
   "outputs": [
    {
     "name": "stderr",
     "output_type": "stream",
     "text": [
      "[Parallel(n_jobs=8)]: Using backend ThreadingBackend with 8 concurrent workers.\n",
      "[Parallel(n_jobs=8)]: Done  25 tasks      | elapsed:    0.0s\n",
      "[Parallel(n_jobs=8)]: Done 146 tasks      | elapsed:    0.0s\n",
      "[Parallel(n_jobs=8)]: Done 200 out of 200 | elapsed:    0.0s finished\n"
     ]
    },
    {
     "data": {
      "text/plain": "array([[-8.54877382e-02, -1.20299898e-03,  2.81040592e+00]])"
     },
     "execution_count": 91,
     "metadata": {},
     "output_type": "execute_result"
    }
   ],
   "source": [
    "model.predict(array.loc[0:0])"
   ],
   "metadata": {
    "collapsed": false,
    "ExecuteTime": {
     "end_time": "2024-04-24T22:58:38.911328100Z",
     "start_time": "2024-04-24T22:58:38.736868800Z"
    }
   },
   "id": "114f2270bf0575ee"
  },
  {
   "cell_type": "code",
   "execution_count": 143,
   "outputs": [
    {
     "data": {
      "text/plain": "        Time  Temperature       Uvx       Uvy        Uvz  Collision  Gas\n56762     18   290.436140  3.655995  2.963391  -6.489717          0    0\n156761   153   287.553658  2.356882  0.433350  -2.922449          1    0\n256760   110   310.395989 -6.815031 -1.108184 -14.016250          0    1\n356759    83   300.235118  1.117821 -1.208441 -13.516352          1    1",
      "text/html": "<div>\n<style scoped>\n    .dataframe tbody tr th:only-of-type {\n        vertical-align: middle;\n    }\n\n    .dataframe tbody tr th {\n        vertical-align: top;\n    }\n\n    .dataframe thead th {\n        text-align: right;\n    }\n</style>\n<table border=\"1\" class=\"dataframe\">\n  <thead>\n    <tr style=\"text-align: right;\">\n      <th></th>\n      <th>Time</th>\n      <th>Temperature</th>\n      <th>Uvx</th>\n      <th>Uvy</th>\n      <th>Uvz</th>\n      <th>Collision</th>\n      <th>Gas</th>\n    </tr>\n  </thead>\n  <tbody>\n    <tr>\n      <th>56762</th>\n      <td>18</td>\n      <td>290.436140</td>\n      <td>3.655995</td>\n      <td>2.963391</td>\n      <td>-6.489717</td>\n      <td>0</td>\n      <td>0</td>\n    </tr>\n    <tr>\n      <th>156761</th>\n      <td>153</td>\n      <td>287.553658</td>\n      <td>2.356882</td>\n      <td>0.433350</td>\n      <td>-2.922449</td>\n      <td>1</td>\n      <td>0</td>\n    </tr>\n    <tr>\n      <th>256760</th>\n      <td>110</td>\n      <td>310.395989</td>\n      <td>-6.815031</td>\n      <td>-1.108184</td>\n      <td>-14.016250</td>\n      <td>0</td>\n      <td>1</td>\n    </tr>\n    <tr>\n      <th>356759</th>\n      <td>83</td>\n      <td>300.235118</td>\n      <td>1.117821</td>\n      <td>-1.208441</td>\n      <td>-13.516352</td>\n      <td>1</td>\n      <td>1</td>\n    </tr>\n  </tbody>\n</table>\n</div>"
     },
     "execution_count": 143,
     "metadata": {},
     "output_type": "execute_result"
    }
   ],
   "source": [
    "data_clean[(data_clean[\"Number\"] == 56763)].drop(['Number', 'Uex', 'Uey', 'Uez'], axis=1)\n",
    "\n",
    "# 56797,90,292.393120335172,-7.39232046870231,10.9036830085417,-12.034277021692,-6.72895320886501,11.0543869966051,10.4764564124139,1,1"
   ],
   "metadata": {
    "collapsed": false,
    "ExecuteTime": {
     "end_time": "2024-04-24T23:57:48.822700500Z",
     "start_time": "2024-04-24T23:57:48.799123Z"
    }
   },
   "id": "833177b2e355b4c8"
  },
  {
   "cell_type": "markdown",
   "source": [],
   "metadata": {
    "collapsed": false
   },
   "id": "1a34e0820a8d714e"
  },
  {
   "metadata": {
    "ExecuteTime": {
     "end_time": "2024-04-25T06:04:22.407842100Z",
     "start_time": "2024-04-25T06:04:21.917268Z"
    }
   },
   "cell_type": "code",
   "source": [
    "import matplotlib.pyplot as plt\n",
    "from mpl_toolkits.mplot3d import Axes3D\n",
    "\n",
    "# Ваши вектора\n",
    "vector1 = [1.995869, 8.273254, -2.536799]\n",
    "vector2 = model.predict(data_clean[(data_clean[\"Gas\"] == 1) & (data_clean[\"Collision\"] == 1) & (data_clean[\"Number\"] == 56795)].drop(['Number', 'Uex', 'Uey', 'Uez'], axis=1))\n",
    "\n",
    "# vector1 = \n",
    "\n",
    "#73094 161 298.536286107172 -1.86539822895878 -0.376889417204399 -1.34902931363484 -1.7194351673746 1.35050062417451 0.319871675521762\n",
    "\n",
    "# Создание нового рисунка\n",
    "fig = plt.figure()\n",
    "\n",
    "# Добавление 3D-осей\n",
    "ax = fig.add_subplot(111, projection='3d')\n",
    "\n",
    "# Построение векторов\n",
    "ax.quiver(0, 0, 0, vector1[0], vector1[1], vector1[2], color='r')\n",
    "ax.quiver(0, 0, 0, vector2[0][0], vector2[0][1], vector2[0][2], color='b')\n",
    "\n",
    "# Установка пределов для осей\n",
    "ax.set_xlim([min(vector1[0], vector2[0][0]), max(vector1[0], vector2[0][0])])\n",
    "ax.set_ylim([min(vector1[1], vector2[0][1]), max(vector1[1], vector2[0][1])])\n",
    "ax.set_zlim([min(vector1[2], vector2[0][2]), max(vector1[2], vector2[0][2])])\n",
    "\n",
    "# Показать график\n",
    "plt.show()\n"
   ],
   "id": "556768cef3ff40f4",
   "outputs": [
    {
     "name": "stderr",
     "output_type": "stream",
     "text": [
      "[Parallel(n_jobs=8)]: Using backend ThreadingBackend with 8 concurrent workers.\n",
      "[Parallel(n_jobs=8)]: Done  25 tasks      | elapsed:    0.0s\n",
      "[Parallel(n_jobs=8)]: Done 146 tasks      | elapsed:    0.0s\n",
      "[Parallel(n_jobs=8)]: Done 200 out of 200 | elapsed:    0.0s finished\n"
     ]
    },
    {
     "data": {
      "text/plain": "<Figure size 640x480 with 1 Axes>",
      "image/png": "[encoded data removed]"
     },
     "metadata": {},
     "output_type": "display_data"
    }
   ],
   "execution_count": 144
  },
  {
   "cell_type": "code",
   "execution_count": 64,
   "outputs": [
    {
     "data": {
      "text/plain": "1.6831671344359886"
     },
     "execution_count": 64,
     "metadata": {},
     "output_type": "execute_result"
    }
   ],
   "source": [
    "vector2[0][0]"
   ],
   "metadata": {
    "collapsed": false,
    "ExecuteTime": {
     "end_time": "2024-04-24T22:28:43.652333600Z",
     "start_time": "2024-04-24T22:28:43.413441800Z"
    }
   },
   "id": "b2dadbf1c3b3b6ad"
  },
  {
   "cell_type": "code",
   "execution_count": 70,
   "outputs": [
    {
     "data": {
      "text/plain": "       Number  Time  Temperature       Uvx       Uvy       Uvz       Uex  \\\n9910     9911   216   295.505936  1.329027 -0.617004 -0.190050  3.007517   \n90976   90977   283   287.922436 -1.659509  2.954410 -2.150323 -1.661191   \n24514   24515    98   301.698101  3.379821 -1.990590 -2.127158 -1.743085   \n49906   49907   114   306.691388  2.032692  3.158747 -3.165354 -2.740162   \n89529   89530   173   296.332565  2.984763  0.437833 -4.618180 -1.369479   \n...       ...   ...          ...       ...       ...       ...       ...   \n26626   26627  1059   289.222364  2.295026 -1.008805 -0.668495 -3.136997   \n7961     7962    24   300.259739 -4.519546 -3.020463 -4.179093 -4.957008   \n99882   99883   651   310.339834  2.426642 -0.483972 -1.406603 -0.011330   \n81586   81587   133   297.009186  5.289057  0.596214 -5.267032  3.028089   \n2969     2970   119   313.180265  6.356916  1.409447 -3.623768  0.343273   \n\n            Uey       Uez  \n9910   4.237555  4.565514  \n90976 -1.072361  2.452245  \n24514 -1.296273  3.765461  \n49906  0.587914  1.406277  \n89529  3.860301  3.630680  \n...         ...       ...  \n26626 -0.362833  0.655998  \n7961  -2.546449  3.105743  \n99882  3.605280  1.878738  \n81586  3.813539  2.142015  \n2969   1.044692  1.222157  \n\n[100 rows x 9 columns]",
      "text/html": "<div>\n<style scoped>\n    .dataframe tbody tr th:only-of-type {\n        vertical-align: middle;\n    }\n\n    .dataframe tbody tr th {\n        vertical-align: top;\n    }\n\n    .dataframe thead th {\n        text-align: right;\n    }\n</style>\n<table border=\"1\" class=\"dataframe\">\n  <thead>\n    <tr style=\"text-align: right;\">\n      <th></th>\n      <th>Number</th>\n      <th>Time</th>\n      <th>Temperature</th>\n      <th>Uvx</th>\n      <th>Uvy</th>\n      <th>Uvz</th>\n      <th>Uex</th>\n      <th>Uey</th>\n      <th>Uez</th>\n    </tr>\n  </thead>\n  <tbody>\n    <tr>\n      <th>9910</th>\n      <td>9911</td>\n      <td>216</td>\n      <td>295.505936</td>\n      <td>1.329027</td>\n      <td>-0.617004</td>\n      <td>-0.190050</td>\n      <td>3.007517</td>\n      <td>4.237555</td>\n      <td>4.565514</td>\n    </tr>\n    <tr>\n      <th>90976</th>\n      <td>90977</td>\n      <td>283</td>\n      <td>287.922436</td>\n      <td>-1.659509</td>\n      <td>2.954410</td>\n      <td>-2.150323</td>\n      <td>-1.661191</td>\n      <td>-1.072361</td>\n      <td>2.452245</td>\n    </tr>\n    <tr>\n      <th>24514</th>\n      <td>24515</td>\n      <td>98</td>\n      <td>301.698101</td>\n      <td>3.379821</td>\n      <td>-1.990590</td>\n      <td>-2.127158</td>\n      <td>-1.743085</td>\n      <td>-1.296273</td>\n      <td>3.765461</td>\n    </tr>\n    <tr>\n      <th>49906</th>\n      <td>49907</td>\n      <td>114</td>\n      <td>306.691388</td>\n      <td>2.032692</td>\n      <td>3.158747</td>\n      <td>-3.165354</td>\n      <td>-2.740162</td>\n      <td>0.587914</td>\n      <td>1.406277</td>\n    </tr>\n    <tr>\n      <th>89529</th>\n      <td>89530</td>\n      <td>173</td>\n      <td>296.332565</td>\n      <td>2.984763</td>\n      <td>0.437833</td>\n      <td>-4.618180</td>\n      <td>-1.369479</td>\n      <td>3.860301</td>\n      <td>3.630680</td>\n    </tr>\n    <tr>\n      <th>...</th>\n      <td>...</td>\n      <td>...</td>\n      <td>...</td>\n      <td>...</td>\n      <td>...</td>\n      <td>...</td>\n      <td>...</td>\n      <td>...</td>\n      <td>...</td>\n    </tr>\n    <tr>\n      <th>26626</th>\n      <td>26627</td>\n      <td>1059</td>\n      <td>289.222364</td>\n      <td>2.295026</td>\n      <td>-1.008805</td>\n      <td>-0.668495</td>\n      <td>-3.136997</td>\n      <td>-0.362833</td>\n      <td>0.655998</td>\n    </tr>\n    <tr>\n      <th>7961</th>\n      <td>7962</td>\n      <td>24</td>\n      <td>300.259739</td>\n      <td>-4.519546</td>\n      <td>-3.020463</td>\n      <td>-4.179093</td>\n      <td>-4.957008</td>\n      <td>-2.546449</td>\n      <td>3.105743</td>\n    </tr>\n    <tr>\n      <th>99882</th>\n      <td>99883</td>\n      <td>651</td>\n      <td>310.339834</td>\n      <td>2.426642</td>\n      <td>-0.483972</td>\n      <td>-1.406603</td>\n      <td>-0.011330</td>\n      <td>3.605280</td>\n      <td>1.878738</td>\n    </tr>\n    <tr>\n      <th>81586</th>\n      <td>81587</td>\n      <td>133</td>\n      <td>297.009186</td>\n      <td>5.289057</td>\n      <td>0.596214</td>\n      <td>-5.267032</td>\n      <td>3.028089</td>\n      <td>3.813539</td>\n      <td>2.142015</td>\n    </tr>\n    <tr>\n      <th>2969</th>\n      <td>2970</td>\n      <td>119</td>\n      <td>313.180265</td>\n      <td>6.356916</td>\n      <td>1.409447</td>\n      <td>-3.623768</td>\n      <td>0.343273</td>\n      <td>1.044692</td>\n      <td>1.222157</td>\n    </tr>\n  </tbody>\n</table>\n<p>100 rows × 9 columns</p>\n</div>"
     },
     "execution_count": 70,
     "metadata": {},
     "output_type": "execute_result"
    }
   ],
   "source": [
    "random_sample = dataset.sample(n=100)\n",
    "\n",
    "random_sample"
   ],
   "metadata": {
    "collapsed": false,
    "ExecuteTime": {
     "end_time": "2024-04-24T22:48:47.966839600Z",
     "start_time": "2024-04-24T22:48:47.907726100Z"
    }
   },
   "id": "57f6723b3c06d16d"
  },
  {
   "cell_type": "code",
   "execution_count": null,
   "outputs": [],
   "source": [
    "model.predict(random_sample.)"
   ],
   "metadata": {
    "collapsed": false
   },
   "id": "42f6b86e9afcddd2"
  }
 ],
 "metadata": {
  "kernelspec": {
   "display_name": "Python 3",
   "language": "python",
   "name": "python3"
  },
  "language_info": {
   "codemirror_mode": {
    "name": "ipython",
    "version": 2
   },
   "file_extension": ".py",
   "mimetype": "text/x-python",
   "name": "python",
   "nbconvert_exporter": "python",
   "pygments_lexer": "ipython2",
   "version": "2.7.6"
  }
 },
 "nbformat": 4,
 "nbformat_minor": 5
}

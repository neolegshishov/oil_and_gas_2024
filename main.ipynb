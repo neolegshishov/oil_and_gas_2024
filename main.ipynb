{
 "cells": [
  {
   "cell_type": "code",
   "id": "initial_id",
   "metadata": {
    "collapsed": true,
    "ExecuteTime": {
     "end_time": "2024-04-24T13:45:44.741329Z",
     "start_time": "2024-04-24T13:45:44.609710Z"
    }
   },
   "source": [
    "from pandas import read_csv, DataFrame\n",
    "from sklearn.ensemble import RandomForestRegressor\n",
    "from sklearn.model_selection import train_test_split\n",
    "import numpy as np\n",
    "import scipy.stats as stats\n",
    "\n",
    "dataset = read_csv('Ar_300_rough_collision.dat', sep=' ')\n",
    "dataset.head()"
   ],
   "outputs": [
    {
     "data": {
      "text/plain": [
       "   Number  Time  Temperature       Uvx       Uvy       Uvz       Uex  \\\n",
       "0       1   175   303.696396 -4.658513 -5.898589 -3.567033  2.745380   \n",
       "1       2   182   307.713569 -0.799739 -0.019740 -3.964088  0.730010   \n",
       "2       3   195   312.573645 -1.971708  3.424431 -3.939806  1.070360   \n",
       "3       4    26   309.180417  2.485977 -0.693671 -6.412166  1.574913   \n",
       "4       5   240   299.588882 -0.079111 -6.650128 -3.855634  1.709926   \n",
       "\n",
       "        Uey       Uez  \n",
       "0 -1.853520  4.392539  \n",
       "1 -4.444037  2.841238  \n",
       "2 -2.532539  2.700840  \n",
       "3  0.404154  4.182970  \n",
       "4 -0.126030  6.029875  "
      ],
      "text/html": [
       "<div>\n",
       "<style scoped>\n",
       "    .dataframe tbody tr th:only-of-type {\n",
       "        vertical-align: middle;\n",
       "    }\n",
       "\n",
       "    .dataframe tbody tr th {\n",
       "        vertical-align: top;\n",
       "    }\n",
       "\n",
       "    .dataframe thead th {\n",
       "        text-align: right;\n",
       "    }\n",
       "</style>\n",
       "<table border=\"1\" class=\"dataframe\">\n",
       "  <thead>\n",
       "    <tr style=\"text-align: right;\">\n",
       "      <th></th>\n",
       "      <th>Number</th>\n",
       "      <th>Time</th>\n",
       "      <th>Temperature</th>\n",
       "      <th>Uvx</th>\n",
       "      <th>Uvy</th>\n",
       "      <th>Uvz</th>\n",
       "      <th>Uex</th>\n",
       "      <th>Uey</th>\n",
       "      <th>Uez</th>\n",
       "    </tr>\n",
       "  </thead>\n",
       "  <tbody>\n",
       "    <tr>\n",
       "      <th>0</th>\n",
       "      <td>1</td>\n",
       "      <td>175</td>\n",
       "      <td>303.696396</td>\n",
       "      <td>-4.658513</td>\n",
       "      <td>-5.898589</td>\n",
       "      <td>-3.567033</td>\n",
       "      <td>2.745380</td>\n",
       "      <td>-1.853520</td>\n",
       "      <td>4.392539</td>\n",
       "    </tr>\n",
       "    <tr>\n",
       "      <th>1</th>\n",
       "      <td>2</td>\n",
       "      <td>182</td>\n",
       "      <td>307.713569</td>\n",
       "      <td>-0.799739</td>\n",
       "      <td>-0.019740</td>\n",
       "      <td>-3.964088</td>\n",
       "      <td>0.730010</td>\n",
       "      <td>-4.444037</td>\n",
       "      <td>2.841238</td>\n",
       "    </tr>\n",
       "    <tr>\n",
       "      <th>2</th>\n",
       "      <td>3</td>\n",
       "      <td>195</td>\n",
       "      <td>312.573645</td>\n",
       "      <td>-1.971708</td>\n",
       "      <td>3.424431</td>\n",
       "      <td>-3.939806</td>\n",
       "      <td>1.070360</td>\n",
       "      <td>-2.532539</td>\n",
       "      <td>2.700840</td>\n",
       "    </tr>\n",
       "    <tr>\n",
       "      <th>3</th>\n",
       "      <td>4</td>\n",
       "      <td>26</td>\n",
       "      <td>309.180417</td>\n",
       "      <td>2.485977</td>\n",
       "      <td>-0.693671</td>\n",
       "      <td>-6.412166</td>\n",
       "      <td>1.574913</td>\n",
       "      <td>0.404154</td>\n",
       "      <td>4.182970</td>\n",
       "    </tr>\n",
       "    <tr>\n",
       "      <th>4</th>\n",
       "      <td>5</td>\n",
       "      <td>240</td>\n",
       "      <td>299.588882</td>\n",
       "      <td>-0.079111</td>\n",
       "      <td>-6.650128</td>\n",
       "      <td>-3.855634</td>\n",
       "      <td>1.709926</td>\n",
       "      <td>-0.126030</td>\n",
       "      <td>6.029875</td>\n",
       "    </tr>\n",
       "  </tbody>\n",
       "</table>\n",
       "</div>"
      ]
     },
     "execution_count": 275,
     "metadata": {},
     "output_type": "execute_result"
    }
   ],
   "execution_count": 275
  },
  {
   "metadata": {
    "ExecuteTime": {
     "end_time": "2024-04-24T13:45:39.757537Z",
     "start_time": "2024-04-24T13:45:39.710464Z"
    }
   },
   "cell_type": "code",
   "source": [
    "#find absolute value of z-score for each observation\n",
    "z = np.abs(stats.zscore(dataset))\n",
    "\n",
    "#only keep rows in dataframe with all z-scores less than absolute value of 3 \n",
    "data_clean = dataset[(z<3).all(axis=1)]\n",
    "\n",
    "#find how many rows are left in the dataframe \n",
    "dataset = data_clean\n",
    "data_clean.shape"
   ],
   "id": "43032510c48909db",
   "outputs": [
    {
     "data": {
      "text/plain": [
       "(95562, 9)"
      ]
     },
     "execution_count": 274,
     "metadata": {},
     "output_type": "execute_result"
    }
   ],
   "execution_count": 274
  },
  {
   "metadata": {
    "ExecuteTime": {
     "end_time": "2024-04-24T13:45:46.624248Z",
     "start_time": "2024-04-24T13:45:46.546169Z"
    }
   },
   "cell_type": "code",
   "source": [
    "Q1 = dataset.quantile(q=0.25)\n",
    "Q3 = dataset.quantile(q=0.75)\n",
    "IQR = dataset.apply(stats.iqr)\n",
    "\n",
    "# Оставляем только строки в DataFrame, значения которых находятся в пределах 1.5*IQR от Q1 и Q3\n",
    "data_clean = dataset[~((dataset < (Q1 - 1.5 * IQR)) | (dataset > (Q3 + 1.5 * IQR))).any(axis=1)]\n",
    "\n",
    "# Находим количество оставшихся строк в DataFrame\n",
    "data_clean.shape"
   ],
   "id": "b0c31ba470a61c02",
   "outputs": [
    {
     "data": {
      "text/plain": [
       "(87925, 9)"
      ]
     },
     "execution_count": 276,
     "metadata": {},
     "output_type": "execute_result"
    }
   ],
   "execution_count": 276
  },
  {
   "metadata": {
    "ExecuteTime": {
     "end_time": "2024-04-24T12:02:34.818041Z",
     "start_time": "2024-04-24T12:02:34.551014Z"
    }
   },
   "cell_type": "code",
   "source": "dataset.corr()",
   "id": "3a1e2605a16a7985",
   "outputs": [
    {
     "data": {
      "text/plain": [
       "               Number      Time  Temperature       Uvx       Uvy       Uvz  \\\n",
       "Number       1.000000 -0.001521    -0.001252 -0.004065  0.000002 -0.001100   \n",
       "Time        -0.001521  1.000000    -0.001589  0.000897  0.001722  0.275380   \n",
       "Temperature -0.001252 -0.001589     1.000000 -0.001160 -0.000047  0.005853   \n",
       "Uvx         -0.004065  0.000897    -0.001160  1.000000  0.001857  0.002938   \n",
       "Uvy          0.000002  0.001722    -0.000047  0.001857  1.000000 -0.000511   \n",
       "Uvz         -0.001100  0.275380     0.005853  0.002938 -0.000511  1.000000   \n",
       "Uex         -0.002802  0.000750    -0.000652  0.788465 -0.024228  0.001459   \n",
       "Uey          0.000441  0.002323    -0.000135 -0.023988  0.802677  0.001223   \n",
       "Uez         -0.000235 -0.275415    -0.008024 -0.002152  0.000043 -0.870207   \n",
       "Collision    0.000000 -0.033025     0.010990 -0.000007  0.000001 -0.000006   \n",
       "Gas          0.000000 -0.140247    -0.009690  0.001315  0.000898 -0.662364   \n",
       "\n",
       "                  Uex       Uey       Uez  Collision       Gas  \n",
       "Number      -0.002802  0.000441 -0.000235   0.000000  0.000000  \n",
       "Time         0.000750  0.002323 -0.275415  -0.033025 -0.140247  \n",
       "Temperature -0.000652 -0.000135 -0.008024   0.010990 -0.009690  \n",
       "Uvx          0.788465 -0.023988 -0.002152  -0.000007  0.001315  \n",
       "Uvy         -0.024228  0.802677  0.000043   0.000001  0.000898  \n",
       "Uvz          0.001459  0.001223 -0.870207  -0.000006 -0.662364  \n",
       "Uex          1.000000  0.001262 -0.001254  -0.000398  0.002277  \n",
       "Uey          0.001262  1.000000 -0.000476   0.001865 -0.000789  \n",
       "Uez         -0.001254 -0.000476  1.000000  -0.000684  0.663057  \n",
       "Collision   -0.000398  0.001865 -0.000684   1.000000  0.000000  \n",
       "Gas          0.002277 -0.000789  0.663057   0.000000  1.000000  "
      ],
      "text/html": [
       "<div>\n",
       "<style scoped>\n",
       "    .dataframe tbody tr th:only-of-type {\n",
       "        vertical-align: middle;\n",
       "    }\n",
       "\n",
       "    .dataframe tbody tr th {\n",
       "        vertical-align: top;\n",
       "    }\n",
       "\n",
       "    .dataframe thead th {\n",
       "        text-align: right;\n",
       "    }\n",
       "</style>\n",
       "<table border=\"1\" class=\"dataframe\">\n",
       "  <thead>\n",
       "    <tr style=\"text-align: right;\">\n",
       "      <th></th>\n",
       "      <th>Number</th>\n",
       "      <th>Time</th>\n",
       "      <th>Temperature</th>\n",
       "      <th>Uvx</th>\n",
       "      <th>Uvy</th>\n",
       "      <th>Uvz</th>\n",
       "      <th>Uex</th>\n",
       "      <th>Uey</th>\n",
       "      <th>Uez</th>\n",
       "      <th>Collision</th>\n",
       "      <th>Gas</th>\n",
       "    </tr>\n",
       "  </thead>\n",
       "  <tbody>\n",
       "    <tr>\n",
       "      <th>Number</th>\n",
       "      <td>1.000000</td>\n",
       "      <td>-0.001521</td>\n",
       "      <td>-0.001252</td>\n",
       "      <td>-0.004065</td>\n",
       "      <td>0.000002</td>\n",
       "      <td>-0.001100</td>\n",
       "      <td>-0.002802</td>\n",
       "      <td>0.000441</td>\n",
       "      <td>-0.000235</td>\n",
       "      <td>0.000000</td>\n",
       "      <td>0.000000</td>\n",
       "    </tr>\n",
       "    <tr>\n",
       "      <th>Time</th>\n",
       "      <td>-0.001521</td>\n",
       "      <td>1.000000</td>\n",
       "      <td>-0.001589</td>\n",
       "      <td>0.000897</td>\n",
       "      <td>0.001722</td>\n",
       "      <td>0.275380</td>\n",
       "      <td>0.000750</td>\n",
       "      <td>0.002323</td>\n",
       "      <td>-0.275415</td>\n",
       "      <td>-0.033025</td>\n",
       "      <td>-0.140247</td>\n",
       "    </tr>\n",
       "    <tr>\n",
       "      <th>Temperature</th>\n",
       "      <td>-0.001252</td>\n",
       "      <td>-0.001589</td>\n",
       "      <td>1.000000</td>\n",
       "      <td>-0.001160</td>\n",
       "      <td>-0.000047</td>\n",
       "      <td>0.005853</td>\n",
       "      <td>-0.000652</td>\n",
       "      <td>-0.000135</td>\n",
       "      <td>-0.008024</td>\n",
       "      <td>0.010990</td>\n",
       "      <td>-0.009690</td>\n",
       "    </tr>\n",
       "    <tr>\n",
       "      <th>Uvx</th>\n",
       "      <td>-0.004065</td>\n",
       "      <td>0.000897</td>\n",
       "      <td>-0.001160</td>\n",
       "      <td>1.000000</td>\n",
       "      <td>0.001857</td>\n",
       "      <td>0.002938</td>\n",
       "      <td>0.788465</td>\n",
       "      <td>-0.023988</td>\n",
       "      <td>-0.002152</td>\n",
       "      <td>-0.000007</td>\n",
       "      <td>0.001315</td>\n",
       "    </tr>\n",
       "    <tr>\n",
       "      <th>Uvy</th>\n",
       "      <td>0.000002</td>\n",
       "      <td>0.001722</td>\n",
       "      <td>-0.000047</td>\n",
       "      <td>0.001857</td>\n",
       "      <td>1.000000</td>\n",
       "      <td>-0.000511</td>\n",
       "      <td>-0.024228</td>\n",
       "      <td>0.802677</td>\n",
       "      <td>0.000043</td>\n",
       "      <td>0.000001</td>\n",
       "      <td>0.000898</td>\n",
       "    </tr>\n",
       "    <tr>\n",
       "      <th>Uvz</th>\n",
       "      <td>-0.001100</td>\n",
       "      <td>0.275380</td>\n",
       "      <td>0.005853</td>\n",
       "      <td>0.002938</td>\n",
       "      <td>-0.000511</td>\n",
       "      <td>1.000000</td>\n",
       "      <td>0.001459</td>\n",
       "      <td>0.001223</td>\n",
       "      <td>-0.870207</td>\n",
       "      <td>-0.000006</td>\n",
       "      <td>-0.662364</td>\n",
       "    </tr>\n",
       "    <tr>\n",
       "      <th>Uex</th>\n",
       "      <td>-0.002802</td>\n",
       "      <td>0.000750</td>\n",
       "      <td>-0.000652</td>\n",
       "      <td>0.788465</td>\n",
       "      <td>-0.024228</td>\n",
       "      <td>0.001459</td>\n",
       "      <td>1.000000</td>\n",
       "      <td>0.001262</td>\n",
       "      <td>-0.001254</td>\n",
       "      <td>-0.000398</td>\n",
       "      <td>0.002277</td>\n",
       "    </tr>\n",
       "    <tr>\n",
       "      <th>Uey</th>\n",
       "      <td>0.000441</td>\n",
       "      <td>0.002323</td>\n",
       "      <td>-0.000135</td>\n",
       "      <td>-0.023988</td>\n",
       "      <td>0.802677</td>\n",
       "      <td>0.001223</td>\n",
       "      <td>0.001262</td>\n",
       "      <td>1.000000</td>\n",
       "      <td>-0.000476</td>\n",
       "      <td>0.001865</td>\n",
       "      <td>-0.000789</td>\n",
       "    </tr>\n",
       "    <tr>\n",
       "      <th>Uez</th>\n",
       "      <td>-0.000235</td>\n",
       "      <td>-0.275415</td>\n",
       "      <td>-0.008024</td>\n",
       "      <td>-0.002152</td>\n",
       "      <td>0.000043</td>\n",
       "      <td>-0.870207</td>\n",
       "      <td>-0.001254</td>\n",
       "      <td>-0.000476</td>\n",
       "      <td>1.000000</td>\n",
       "      <td>-0.000684</td>\n",
       "      <td>0.663057</td>\n",
       "    </tr>\n",
       "    <tr>\n",
       "      <th>Collision</th>\n",
       "      <td>0.000000</td>\n",
       "      <td>-0.033025</td>\n",
       "      <td>0.010990</td>\n",
       "      <td>-0.000007</td>\n",
       "      <td>0.000001</td>\n",
       "      <td>-0.000006</td>\n",
       "      <td>-0.000398</td>\n",
       "      <td>0.001865</td>\n",
       "      <td>-0.000684</td>\n",
       "      <td>1.000000</td>\n",
       "      <td>0.000000</td>\n",
       "    </tr>\n",
       "    <tr>\n",
       "      <th>Gas</th>\n",
       "      <td>0.000000</td>\n",
       "      <td>-0.140247</td>\n",
       "      <td>-0.009690</td>\n",
       "      <td>0.001315</td>\n",
       "      <td>0.000898</td>\n",
       "      <td>-0.662364</td>\n",
       "      <td>0.002277</td>\n",
       "      <td>-0.000789</td>\n",
       "      <td>0.663057</td>\n",
       "      <td>0.000000</td>\n",
       "      <td>1.000000</td>\n",
       "    </tr>\n",
       "  </tbody>\n",
       "</table>\n",
       "</div>"
      ]
     },
     "execution_count": 162,
     "metadata": {},
     "output_type": "execute_result"
    }
   ],
   "execution_count": 162
  },
  {
   "metadata": {
    "ExecuteTime": {
     "end_time": "2024-04-24T12:30:15.038262Z",
     "start_time": "2024-04-24T12:30:14.959481Z"
    }
   },
   "cell_type": "code",
   "source": [
    "dataset = dataset.query('Time < 1001')\n",
    "dataset = dataset.query('Temperature < 401')"
   ],
   "id": "43b4a639093ba8b0",
   "outputs": [],
   "execution_count": 209
  },
  {
   "metadata": {
    "ExecuteTime": {
     "end_time": "2024-04-24T12:15:52.945766Z",
     "start_time": "2024-04-24T12:15:52.916065Z"
    }
   },
   "cell_type": "code",
   "source": "dataset.info()",
   "id": "4c2e7df953536493",
   "outputs": [
    {
     "name": "stdout",
     "output_type": "stream",
     "text": [
      "<class 'pandas.core.frame.DataFrame'>\n",
      "Int64Index: 386712 entries, 0 to 399995\n",
      "Data columns (total 11 columns):\n",
      " #   Column       Non-Null Count   Dtype  \n",
      "---  ------       --------------   -----  \n",
      " 0   Number       386712 non-null  int64  \n",
      " 1   Time         386712 non-null  int64  \n",
      " 2   Temperature  386712 non-null  float64\n",
      " 3   Uvx          386712 non-null  float64\n",
      " 4   Uvy          386712 non-null  float64\n",
      " 5   Uvz          386712 non-null  float64\n",
      " 6   Uex          386712 non-null  float64\n",
      " 7   Uey          386712 non-null  float64\n",
      " 8   Uez          386712 non-null  float64\n",
      " 9   Collision    386712 non-null  int64  \n",
      " 10  Gas          386712 non-null  int64  \n",
      "dtypes: float64(7), int64(4)\n",
      "memory usage: 35.4 MB\n"
     ]
    }
   ],
   "execution_count": 182
  },
  {
   "metadata": {
    "ExecuteTime": {
     "end_time": "2024-04-24T13:46:52.687830Z",
     "start_time": "2024-04-24T13:46:52.657254Z"
    }
   },
   "cell_type": "code",
   "source": [
    "trg = dataset.drop(['Number', 'Time'], axis=1)[['Uex','Uey', 'Uez']]\n",
    "trn = dataset.drop(['Number', 'Uex','Uey', 'Uez'], axis=1)"
   ],
   "id": "59579b52803cca66",
   "outputs": [],
   "execution_count": 281
  },
  {
   "metadata": {
    "ExecuteTime": {
     "end_time": "2024-04-24T13:46:54.188771Z",
     "start_time": "2024-04-24T13:46:54.157464Z"
    }
   },
   "cell_type": "code",
   "source": "Xtrn, Xtest, Ytrn, Ytest = train_test_split(trn, trg, test_size=0.3)",
   "id": "466c7b032627746f",
   "outputs": [],
   "execution_count": 282
  },
  {
   "metadata": {
    "ExecuteTime": {
     "end_time": "2024-04-24T13:54:08.433981Z",
     "start_time": "2024-04-24T13:54:08.418334Z"
    }
   },
   "cell_type": "code",
   "source": [
    "model = RandomForestRegressor(n_estimators=200, verbose=2, n_jobs=8)\n",
    "# model = RandomForestRegressor(n_estimators=200, verbose=2, n_jobs=8, max_depth=10, min_samples_split=2, min_impurity_decrease=3)\n",
    "#{'criterion': 'squared_error', 'max_depth': 10, 'min_samples_leaf': 2, 'min_samples_split': 3, 'n_estimators': 200}"
   ],
   "id": "1fa0fc4f9c49cd61",
   "outputs": [],
   "execution_count": 305
  },
  {
   "metadata": {
    "ExecuteTime": {
     "end_time": "2024-04-24T13:54:29.278781Z",
     "start_time": "2024-04-24T13:54:11.171207Z"
    }
   },
   "cell_type": "code",
   "source": "model.fit(Xtrn, Ytrn)",
   "id": "f8a0ee125a36f598",
   "outputs": [
    {
     "name": "stderr",
     "output_type": "stream",
     "text": [
      "[Parallel(n_jobs=8)]: Using backend ThreadingBackend with 8 concurrent workers.\n"
     ]
    },
    {
     "name": "stdout",
     "output_type": "stream",
     "text": [
      "building tree 1 of 200building tree 2 of 200\n",
      "building tree 3 of 200\n",
      "building tree 4 of 200\n",
      "building tree 5 of 200\n",
      "\n",
      "building tree 6 of 200\n",
      "building tree 7 of 200\n",
      "building tree 8 of 200\n",
      "building tree 9 of 200\n",
      "building tree 10 of 200\n",
      "building tree 11 of 200\n",
      "building tree 12 of 200\n",
      "building tree 13 of 200\n",
      "building tree 14 of 200\n",
      "building tree 15 of 200\n",
      "building tree 16 of 200\n",
      "building tree 17 of 200\n",
      "building tree 18 of 200\n",
      "building tree 19 of 200\n",
      "building tree 20 of 200\n",
      "building tree 21 of 200\n",
      "building tree 22 of 200\n",
      "building tree 23 of 200\n",
      "building tree 24 of 200\n",
      "building tree 25 of 200\n",
      "building tree 26 of 200\n",
      "building tree 27 of 200\n",
      "building tree 28 of 200\n",
      "building tree 29 of 200\n",
      "building tree 30 of 200\n",
      "building tree 31 of 200\n",
      "building tree 32 of 200\n",
      "building tree 33 of 200\n",
      "building tree 34 of 200\n",
      "building tree 35 of 200\n"
     ]
    },
    {
     "name": "stderr",
     "output_type": "stream",
     "text": [
      "[Parallel(n_jobs=8)]: Done  25 tasks      | elapsed:    2.4s\n"
     ]
    },
    {
     "name": "stdout",
     "output_type": "stream",
     "text": [
      "building tree 36 of 200\n",
      "building tree 37 of 200\n",
      "building tree 38 of 200\n",
      "building tree 39 of 200\n",
      "building tree 40 of 200\n",
      "building tree 41 of 200\n",
      "building tree 42 of 200\n",
      "building tree 43 of 200\n",
      "building tree 44 of 200\n",
      "building tree 45 of 200\n",
      "building tree 46 of 200\n",
      "building tree 47 of 200\n",
      "building tree 48 of 200\n",
      "building tree 49 of 200\n",
      "building tree 50 of 200\n",
      "building tree 51 of 200\n",
      "building tree 52 of 200\n",
      "building tree 53 of 200\n",
      "building tree 54 of 200\n",
      "building tree 55 of 200\n",
      "building tree 56 of 200\n",
      "building tree 57 of 200\n",
      "building tree 58 of 200\n",
      "building tree 59 of 200\n",
      "building tree 60 of 200\n",
      "building tree 61 of 200\n",
      "building tree 62 of 200\n",
      "building tree 63 of 200\n",
      "building tree 64 of 200\n",
      "building tree 65 of 200\n",
      "building tree 66 of 200\n",
      "building tree 67 of 200\n",
      "building tree 68 of 200\n",
      "building tree 69 of 200\n",
      "building tree 70 of 200\n",
      "building tree 71 of 200\n",
      "building tree 72 of 200\n",
      "building tree 73 of 200\n",
      "building tree 74 of 200\n",
      "building tree 75 of 200\n",
      "building tree 76 of 200\n",
      "building tree 77 of 200\n",
      "building tree 78 of 200\n",
      "building tree 79 of 200\n",
      "building tree 80 of 200\n",
      "building tree 81 of 200\n",
      "building tree 82 of 200\n",
      "building tree 83 of 200\n",
      "building tree 84 of 200\n",
      "building tree 85 of 200\n",
      "building tree 86 of 200\n",
      "building tree 87 of 200\n",
      "building tree 88 of 200\n",
      "building tree 89 of 200\n",
      "building tree 90 of 200\n",
      "building tree 91 of 200\n",
      "building tree 92 of 200\n",
      "building tree 93 of 200\n",
      "building tree 94 of 200\n",
      "building tree 95 of 200\n",
      "building tree 96 of 200\n",
      "building tree 97 of 200\n",
      "building tree 98 of 200\n",
      "building tree 99 of 200\n",
      "building tree 100 of 200\n",
      "building tree 101 of 200\n",
      "building tree 102 of 200\n",
      "building tree 103 of 200\n",
      "building tree 104 of 200\n",
      "building tree 105 of 200\n",
      "building tree 106 of 200\n",
      "building tree 107 of 200\n",
      "building tree 108 of 200\n",
      "building tree 109 of 200\n",
      "building tree 110 of 200\n",
      "building tree 111 of 200\n",
      "building tree 112 of 200\n",
      "building tree 113 of 200\n",
      "building tree 114 of 200\n",
      "building tree 115 of 200\n",
      "building tree 116 of 200\n",
      "building tree 117 of 200\n",
      "building tree 118 of 200\n",
      "building tree 119 of 200\n",
      "building tree 120 of 200\n",
      "building tree 121 of 200\n",
      "building tree 122 of 200\n",
      "building tree 123 of 200\n",
      "building tree 124 of 200\n",
      "building tree 125 of 200\n",
      "building tree 126 of 200\n",
      "building tree 127 of 200\n",
      "building tree 128 of 200\n",
      "building tree 129 of 200\n",
      "building tree 130 of 200\n",
      "building tree 131 of 200\n",
      "building tree 132 of 200\n",
      "building tree 133 of 200\n",
      "building tree 134 of 200\n",
      "building tree 135 of 200\n",
      "building tree 136 of 200\n",
      "building tree 137 of 200\n",
      "building tree 138 of 200\n",
      "building tree 139 of 200\n",
      "building tree 140 of 200\n",
      "building tree 141 of 200\n",
      "building tree 142 of 200\n",
      "building tree 143 of 200\n",
      "building tree 144 of 200\n",
      "building tree 145 of 200\n",
      "building tree 146 of 200\n",
      "building tree 147 of 200\n",
      "building tree 148 of 200\n",
      "building tree 149 of 200\n",
      "building tree 150 of 200\n",
      "building tree 151 of 200\n",
      "building tree 152 of 200\n",
      "building tree 153 of 200\n",
      "building tree 154 of 200\n",
      "building tree 155 of 200\n",
      "building tree 156 of 200\n"
     ]
    },
    {
     "name": "stderr",
     "output_type": "stream",
     "text": [
      "[Parallel(n_jobs=8)]: Done 146 tasks      | elapsed:   13.1s\n"
     ]
    },
    {
     "name": "stdout",
     "output_type": "stream",
     "text": [
      "building tree 157 of 200\n",
      "building tree 158 of 200\n",
      "building tree 159 of 200\n",
      "building tree 160 of 200\n",
      "building tree 161 of 200\n",
      "building tree 162 of 200\n",
      "building tree 163 of 200\n",
      "building tree 164 of 200\n",
      "building tree 165 of 200\n",
      "building tree 166 of 200\n",
      "building tree 167 of 200\n",
      "building tree 168 of 200\n",
      "building tree 169 of 200\n",
      "building tree 170 of 200\n",
      "building tree 171 of 200\n",
      "building tree 172 of 200\n",
      "building tree 173 of 200\n",
      "building tree 174 of 200\n",
      "building tree 175 of 200\n",
      "building tree 176 of 200\n",
      "building tree 177 of 200\n",
      "building tree 178 of 200\n",
      "building tree 179 of 200\n",
      "building tree 180 of 200\n",
      "building tree 181 of 200\n",
      "building tree 182 of 200\n",
      "building tree 183 of 200\n",
      "building tree 184 of 200\n",
      "building tree 185 of 200\n",
      "building tree 186 of 200\n",
      "building tree 187 of 200\n",
      "building tree 188 of 200\n",
      "building tree 189 of 200\n",
      "building tree 190 of 200\n",
      "building tree 191 of 200\n",
      "building tree 192 of 200\n",
      "building tree 193 of 200\n",
      "building tree 194 of 200\n",
      "building tree 195 of 200\n",
      "building tree 196 of 200\n",
      "building tree 197 of 200\n",
      "building tree 198 of 200\n",
      "building tree 199 of 200\n",
      "building tree 200 of 200\n"
     ]
    },
    {
     "name": "stderr",
     "output_type": "stream",
     "text": [
      "[Parallel(n_jobs=8)]: Done 200 out of 200 | elapsed:   17.9s finished\n"
     ]
    },
    {
     "data": {
      "text/plain": [
       "RandomForestRegressor(n_estimators=200, n_jobs=8, verbose=2)"
      ]
     },
     "execution_count": 306,
     "metadata": {},
     "output_type": "execute_result"
    }
   ],
   "execution_count": 306
  },
  {
   "metadata": {
    "ExecuteTime": {
     "end_time": "2024-04-24T13:47:32.610554Z",
     "start_time": "2024-04-24T13:47:31.968818Z"
    }
   },
   "cell_type": "code",
   "source": [
    "from joblib import dump, load\n",
    "dump(model, 'Ar_300_rough_collision.joblib')"
   ],
   "id": "81140e6fa3ea6b30",
   "outputs": [
    {
     "data": {
      "text/plain": [
       "['Ar_300_rough_collision.joblib']"
      ]
     },
     "execution_count": 285,
     "metadata": {},
     "output_type": "execute_result"
    }
   ],
   "execution_count": 285
  },
  {
   "metadata": {},
   "cell_type": "code",
   "source": "# model = load('model.joblib')",
   "id": "57371355a86fb082",
   "outputs": [],
   "execution_count": null
  },
  {
   "metadata": {
    "ExecuteTime": {
     "end_time": "2024-04-24T13:48:30.006834Z",
     "start_time": "2024-04-24T13:48:29.975497Z"
    }
   },
   "cell_type": "code",
   "source": "Xtest",
   "id": "19990f82eabcefbf",
   "outputs": [
    {
     "data": {
      "text/plain": [
       "       Time  Temperature       Uvx       Uvy       Uvz\n",
       "48039    91   297.791348 -2.918791  0.450256 -0.987129\n",
       "54746   566   304.337401  0.143628 -3.945810 -0.589029\n",
       "81875   800   294.841545  2.389882  2.571588 -2.594221\n",
       "98811    20   304.940162  1.466171 -4.718521 -5.728716\n",
       "66082   843   319.972254  1.713699  0.401296 -3.526438\n",
       "...     ...          ...       ...       ...       ...\n",
       "50629    88   289.912803  1.286908  1.343710 -3.438700\n",
       "77786    22   309.431664 -0.009635  2.887370 -3.125996\n",
       "68533  1624   312.872073 -0.807877 -1.647793 -4.900831\n",
       "70111   242   303.014087 -5.560472 -5.574286 -2.416310\n",
       "11379   285   302.471451  0.273018  2.101737 -2.497673\n",
       "\n",
       "[30000 rows x 5 columns]"
      ],
      "text/html": [
       "<div>\n",
       "<style scoped>\n",
       "    .dataframe tbody tr th:only-of-type {\n",
       "        vertical-align: middle;\n",
       "    }\n",
       "\n",
       "    .dataframe tbody tr th {\n",
       "        vertical-align: top;\n",
       "    }\n",
       "\n",
       "    .dataframe thead th {\n",
       "        text-align: right;\n",
       "    }\n",
       "</style>\n",
       "<table border=\"1\" class=\"dataframe\">\n",
       "  <thead>\n",
       "    <tr style=\"text-align: right;\">\n",
       "      <th></th>\n",
       "      <th>Time</th>\n",
       "      <th>Temperature</th>\n",
       "      <th>Uvx</th>\n",
       "      <th>Uvy</th>\n",
       "      <th>Uvz</th>\n",
       "    </tr>\n",
       "  </thead>\n",
       "  <tbody>\n",
       "    <tr>\n",
       "      <th>48039</th>\n",
       "      <td>91</td>\n",
       "      <td>297.791348</td>\n",
       "      <td>-2.918791</td>\n",
       "      <td>0.450256</td>\n",
       "      <td>-0.987129</td>\n",
       "    </tr>\n",
       "    <tr>\n",
       "      <th>54746</th>\n",
       "      <td>566</td>\n",
       "      <td>304.337401</td>\n",
       "      <td>0.143628</td>\n",
       "      <td>-3.945810</td>\n",
       "      <td>-0.589029</td>\n",
       "    </tr>\n",
       "    <tr>\n",
       "      <th>81875</th>\n",
       "      <td>800</td>\n",
       "      <td>294.841545</td>\n",
       "      <td>2.389882</td>\n",
       "      <td>2.571588</td>\n",
       "      <td>-2.594221</td>\n",
       "    </tr>\n",
       "    <tr>\n",
       "      <th>98811</th>\n",
       "      <td>20</td>\n",
       "      <td>304.940162</td>\n",
       "      <td>1.466171</td>\n",
       "      <td>-4.718521</td>\n",
       "      <td>-5.728716</td>\n",
       "    </tr>\n",
       "    <tr>\n",
       "      <th>66082</th>\n",
       "      <td>843</td>\n",
       "      <td>319.972254</td>\n",
       "      <td>1.713699</td>\n",
       "      <td>0.401296</td>\n",
       "      <td>-3.526438</td>\n",
       "    </tr>\n",
       "    <tr>\n",
       "      <th>...</th>\n",
       "      <td>...</td>\n",
       "      <td>...</td>\n",
       "      <td>...</td>\n",
       "      <td>...</td>\n",
       "      <td>...</td>\n",
       "    </tr>\n",
       "    <tr>\n",
       "      <th>50629</th>\n",
       "      <td>88</td>\n",
       "      <td>289.912803</td>\n",
       "      <td>1.286908</td>\n",
       "      <td>1.343710</td>\n",
       "      <td>-3.438700</td>\n",
       "    </tr>\n",
       "    <tr>\n",
       "      <th>77786</th>\n",
       "      <td>22</td>\n",
       "      <td>309.431664</td>\n",
       "      <td>-0.009635</td>\n",
       "      <td>2.887370</td>\n",
       "      <td>-3.125996</td>\n",
       "    </tr>\n",
       "    <tr>\n",
       "      <th>68533</th>\n",
       "      <td>1624</td>\n",
       "      <td>312.872073</td>\n",
       "      <td>-0.807877</td>\n",
       "      <td>-1.647793</td>\n",
       "      <td>-4.900831</td>\n",
       "    </tr>\n",
       "    <tr>\n",
       "      <th>70111</th>\n",
       "      <td>242</td>\n",
       "      <td>303.014087</td>\n",
       "      <td>-5.560472</td>\n",
       "      <td>-5.574286</td>\n",
       "      <td>-2.416310</td>\n",
       "    </tr>\n",
       "    <tr>\n",
       "      <th>11379</th>\n",
       "      <td>285</td>\n",
       "      <td>302.471451</td>\n",
       "      <td>0.273018</td>\n",
       "      <td>2.101737</td>\n",
       "      <td>-2.497673</td>\n",
       "    </tr>\n",
       "  </tbody>\n",
       "</table>\n",
       "<p>30000 rows × 5 columns</p>\n",
       "</div>"
      ]
     },
     "execution_count": 291,
     "metadata": {},
     "output_type": "execute_result"
    }
   ],
   "execution_count": 291
  },
  {
   "metadata": {
    "ExecuteTime": {
     "end_time": "2024-04-24T13:54:42.022990Z",
     "start_time": "2024-04-24T13:54:41.407250Z"
    }
   },
   "cell_type": "code",
   "source": "test_prediction = model.predict(Xtest)",
   "id": "15cbb7bd3d548e7",
   "outputs": [
    {
     "name": "stderr",
     "output_type": "stream",
     "text": [
      "[Parallel(n_jobs=8)]: Using backend ThreadingBackend with 8 concurrent workers.\n",
      "[Parallel(n_jobs=8)]: Done  25 tasks      | elapsed:    0.0s\n",
      "[Parallel(n_jobs=8)]: Done 146 tasks      | elapsed:    0.3s\n",
      "[Parallel(n_jobs=8)]: Done 200 out of 200 | elapsed:    0.5s finished\n"
     ]
    }
   ],
   "execution_count": 307
  },
  {
   "metadata": {
    "ExecuteTime": {
     "end_time": "2024-04-24T13:53:33.259908Z",
     "start_time": "2024-04-24T13:53:33.228641Z"
    }
   },
   "cell_type": "code",
   "source": "test_prediction",
   "id": "755a0ae422ceda2a",
   "outputs": [
    {
     "data": {
      "text/plain": [
       "array([[-2.95406177e-01,  3.24875827e-02,  2.76382237e+00],\n",
       "       [ 1.59521357e-02, -1.04662480e-01,  2.79079196e+00],\n",
       "       [-1.08970129e-02,  6.42675587e-02,  2.78679418e+00],\n",
       "       ...,\n",
       "       [-7.86995600e-02,  3.23788661e-04,  2.75500517e+00],\n",
       "       [-5.99613293e-02,  6.16373679e-02,  2.80175873e+00],\n",
       "       [-1.15120068e-03, -3.54753315e-03,  2.77038154e+00]])"
      ]
     },
     "execution_count": 303,
     "metadata": {},
     "output_type": "execute_result"
    }
   ],
   "execution_count": 303
  },
  {
   "metadata": {
    "ExecuteTime": {
     "end_time": "2024-04-24T13:54:44.879396Z",
     "start_time": "2024-04-24T13:54:44.848143Z"
    }
   },
   "cell_type": "code",
   "source": [
    "from sklearn.metrics import mean_absolute_error,mean_squared_error, r2_score\n",
    "import numpy as np\n",
    "MAE = mean_absolute_error(Ytest, test_prediction)\n",
    "MSE = mean_squared_error(Ytest, test_prediction)\n",
    "RMSE = np.sqrt(MSE)\n",
    "r2 = r2_score(Ytest, test_prediction)\n",
    "for key, value in {'MAE': MAE, 'MSE': MSE, 'RMSE': RMSE, 'r2': r2}.items():\n",
    "    print(key, value)"
   ],
   "id": "69a61bd6885ed0c1",
   "outputs": [
    {
     "name": "stdout",
     "output_type": "stream",
     "text": [
      "MAE 1.5764239588308167\n",
      "MSE 4.223607179052316\n",
      "RMSE 2.0551416445229065\n",
      "r2 0.18445144759729992\n"
     ]
    }
   ],
   "execution_count": 308
  },
  {
   "metadata": {
    "ExecuteTime": {
     "end_time": "2024-04-24T13:48:47.326694Z",
     "start_time": "2024-04-24T13:48:47.311057Z"
    }
   },
   "cell_type": "code",
   "source": [
    "dictionary = dict(zip(['Time', 'Temperature', 'Uvx', 'Uvy', 'Uvz'], [[175],[303.696395975584],[-4.65851294521058],[-5.89858912205267],[-3.56703257911055]]))\n",
    "array = DataFrame(dictionary)\n",
    "array"
   ],
   "id": "d51ebbd3aeec7d80",
   "outputs": [
    {
     "data": {
      "text/plain": [
       "   Time  Temperature       Uvx       Uvy       Uvz\n",
       "0   175   303.696396 -4.658513 -5.898589 -3.567033"
      ],
      "text/html": [
       "<div>\n",
       "<style scoped>\n",
       "    .dataframe tbody tr th:only-of-type {\n",
       "        vertical-align: middle;\n",
       "    }\n",
       "\n",
       "    .dataframe tbody tr th {\n",
       "        vertical-align: top;\n",
       "    }\n",
       "\n",
       "    .dataframe thead th {\n",
       "        text-align: right;\n",
       "    }\n",
       "</style>\n",
       "<table border=\"1\" class=\"dataframe\">\n",
       "  <thead>\n",
       "    <tr style=\"text-align: right;\">\n",
       "      <th></th>\n",
       "      <th>Time</th>\n",
       "      <th>Temperature</th>\n",
       "      <th>Uvx</th>\n",
       "      <th>Uvy</th>\n",
       "      <th>Uvz</th>\n",
       "    </tr>\n",
       "  </thead>\n",
       "  <tbody>\n",
       "    <tr>\n",
       "      <th>0</th>\n",
       "      <td>175</td>\n",
       "      <td>303.696396</td>\n",
       "      <td>-4.658513</td>\n",
       "      <td>-5.898589</td>\n",
       "      <td>-3.567033</td>\n",
       "    </tr>\n",
       "  </tbody>\n",
       "</table>\n",
       "</div>"
      ]
     },
     "execution_count": 292,
     "metadata": {},
     "output_type": "execute_result"
    }
   ],
   "execution_count": 292
  },
  {
   "metadata": {
    "ExecuteTime": {
     "end_time": "2024-04-24T13:48:50.058935Z",
     "start_time": "2024-04-24T13:48:49.913481Z"
    }
   },
   "cell_type": "code",
   "source": "model.predict(array)",
   "id": "950f86a4640b43c7",
   "outputs": [
    {
     "name": "stderr",
     "output_type": "stream",
     "text": [
      "[Parallel(n_jobs=8)]: Using backend ThreadingBackend with 8 concurrent workers.\n",
      "[Parallel(n_jobs=8)]: Done  25 tasks      | elapsed:    0.0s\n",
      "[Parallel(n_jobs=8)]: Done 100 out of 100 | elapsed:    0.0s finished\n"
     ]
    },
    {
     "data": {
      "text/plain": [
       "array([[ 2.16272898, -1.17168125,  4.07667576]])"
      ]
     },
     "execution_count": 293,
     "metadata": {},
     "output_type": "execute_result"
    }
   ],
   "execution_count": 293
  },
  {
   "metadata": {},
   "cell_type": "code",
   "source": [
    "import matplotlib.pyplot as plt\n",
    "from mpl_toolkits.mplot3d import Axes3D\n",
    "\n",
    "# Ваши вектора\n",
    "vector1 = [1, 2, 3]\n",
    "vector2 = [4, 5, 6]\n",
    "\n",
    "# Создание нового рисунка\n",
    "fig = plt.figure()\n",
    "\n",
    "# Добавление 3D-осей\n",
    "ax = fig.add_subplot(111, projection='3d')\n",
    "\n",
    "# Построение векторов\n",
    "ax.quiver(0, 0, 0, vector1[0], vector1[1], vector1[2], color='r')\n",
    "ax.quiver(0, 0, 0, vector2[0], vector2[1], vector2[2], color='b')\n",
    "\n",
    "# Установка пределов для осей\n",
    "ax.set_xlim([0, max(vector1[0], vector2[0])])\n",
    "ax.set_ylim([0, max(vector1[1], vector2[1])])\n",
    "ax.set_zlim([0, max(vector1[2], vector2[2])])\n",
    "\n",
    "# Показать график\n",
    "plt.show()\n"
   ],
   "id": "556768cef3ff40f4",
   "outputs": [],
   "execution_count": null
  }
 ],
 "metadata": {
  "kernelspec": {
   "display_name": "Python 3",
   "language": "python",
   "name": "python3"
  },
  "language_info": {
   "codemirror_mode": {
    "name": "ipython",
    "version": 2
   },
   "file_extension": ".py",
   "mimetype": "text/x-python",
   "name": "python",
   "nbconvert_exporter": "python",
   "pygments_lexer": "ipython2",
   "version": "2.7.6"
  }
 },
 "nbformat": 4,
 "nbformat_minor": 5
}
